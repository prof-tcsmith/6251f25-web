{
 "cells": [
  {
   "cell_type": "markdown",
   "metadata": {},
   "source": [
    "# ISM6251 - Week 2 Assignment\n",
    "# Retail Sales Analysis: From Data to Insights\n",
    "\n",
    "**Student Name:** [Enter your name here]\n",
    "\n",
    "**Date:** [Enter submission date]\n",
    "\n",
    "---"
   ]
  },
  {
   "cell_type": "markdown",
   "metadata": {},
   "source": [
    "## Business Context\n",
    "\n",
    "### The Situation\n",
    "\n",
    "You've just been hired as a Data Analyst at **TechMart**, a mid-sized electronics retail chain with 15 stores across Florida. The company has been in business for 10 years but has only recently started collecting detailed sales data. The CEO has asked you to analyze the last quarter's sales data (Q4 2024) to help inform strategic decisions for 2025.\n",
    "\n",
    "TechMart sells various electronic products including:\n",
    "- **Laptops** - High-margin items, average price $800-1500\n",
    "- **Smartphones** - Fast-moving items, average price $400-1000\n",
    "- **Headphones** - Accessory items, average price $50-300\n",
    "- **Tablets** - Moderate sellers, average price $300-800\n",
    "- **Smart Watches** - Growing category, average price $200-500\n",
    "\n",
    "### The Challenge\n",
    "\n",
    "The CEO wants to understand:\n",
    "1. **Sales Performance**: Which products and stores are performing best?\n",
    "2. **Trends**: Are there any patterns in daily sales that could inform staffing decisions?\n",
    "3. **Regional Differences**: Do different regions prefer different products?\n",
    "4. **Revenue Drivers**: What products contribute most to overall revenue?\n",
    "\n",
    "### Your Mission\n",
    "\n",
    "Using Python and its data science libraries (NumPy, Pandas, and Matplotlib), you will:\n",
    "- Load and explore the sales data\n",
    "- Clean and prepare the data for analysis\n",
    "- Perform calculations to derive business insights\n",
    "- Create visualizations to communicate your findings\n",
    "- Provide actionable recommendations based on your analysis\n",
    "\n",
    "### The Data\n",
    "\n",
    "You have been provided with sales transaction data that includes:\n",
    "- Transaction date\n",
    "- Store location (city)\n",
    "- Product category\n",
    "- Units sold\n",
    "- Unit price\n",
    "- Total revenue per transaction\n",
    "\n",
    "---"
   ]
  },
  {
   "cell_type": "markdown",
   "metadata": {},
   "source": [
    "## Assignment Instructions\n",
    "\n",
    "### Grading Criteria (Total: 100 points)\n",
    "\n",
    "- **Data Loading and Exploration (20 points)**\n",
    "  - Properly load the data\n",
    "  - Explore basic statistics\n",
    "  - Identify data quality issues\n",
    "\n",
    "- **Data Manipulation with Pandas (25 points)**\n",
    "  - Create calculated columns\n",
    "  - Group and aggregate data\n",
    "  - Handle any data issues\n",
    "\n",
    "- **Numerical Analysis with NumPy (15 points)**\n",
    "  - Perform array operations\n",
    "  - Calculate statistics efficiently\n",
    "\n",
    "- **Visualization with Matplotlib (25 points)**\n",
    "  - Create at least 4 meaningful charts\n",
    "  - Properly label and format visualizations\n",
    "\n",
    "- **Business Insights and Communication (15 points)**\n",
    "  - Clear narrative throughout\n",
    "  - Actionable recommendations\n",
    "  - Professional presentation\n",
    "\n",
    "### Important Notes\n",
    "\n",
    "1. **Write clear markdown explanations** for each step\n",
    "2. **Comment your code** to show understanding\n",
    "3. **Interpret your results** in business terms\n",
    "4. **Be creative** but stay within the scope of Week 2 materials\n",
    "\n",
    "---"
   ]
  },
  {
   "cell_type": "markdown",
   "metadata": {},
   "source": [
    "## Part 1: Setup and Data Generation (10 points)\n",
    "\n",
    "Since this is a learning exercise, we'll generate realistic sales data. In a real scenario, you would load this from a CSV file or database.\n",
    "\n",
    "### Task 1.1: Import Required Libraries\n",
    "Import all necessary libraries for this analysis."
   ]
  },
  {
   "cell_type": "code",
   "execution_count": null,
   "metadata": {},
   "outputs": [],
   "source": [
    "# TODO: Import required libraries\n",
    "# You'll need: pandas, numpy, matplotlib.pyplot, and datetime\n",
    "\n",
    "import pandas as pd\n",
    "import numpy as np\n",
    "import matplotlib.pyplot as plt\n",
    "from datetime import datetime, timedelta\n",
    "\n",
    "# Set random seed for reproducibility\n",
    "np.random.seed(42)\n",
    "\n",
    "# Configure matplotlib for better display\n",
    "%matplotlib inline\n",
    "plt.style.use('default')\n",
    "\n",
    "print(\"Libraries imported successfully!\")\n",
    "print(f\"Pandas version: {pd.__version__}\")\n",
    "print(f\"NumPy version: {np.__version__}\")"
   ]
  },
  {
   "cell_type": "markdown",
   "metadata": {},
   "source": [
    "### Task 1.2: Generate Sales Data\n",
    "Run this cell to create our dataset. In practice, you would use `pd.read_csv()` to load real data."
   ]
  },
  {
   "cell_type": "code",
   "execution_count": null,
   "metadata": {},
   "outputs": [],
   "source": [
    "# Generate sample data (DO NOT MODIFY THIS CELL)\n",
    "def generate_sales_data():\n",
    "    # Define parameters\n",
    "    stores = ['Miami', 'Orlando', 'Tampa', 'Jacksonville', 'Tallahassee']\n",
    "    products = {\n",
    "        'Laptop': (800, 1500, 5, 15),\n",
    "        'Smartphone': (400, 1000, 10, 30),\n",
    "        'Headphones': (50, 300, 15, 50),\n",
    "        'Tablet': (300, 800, 8, 20),\n",
    "        'Smart Watch': (200, 500, 10, 25)\n",
    "    }\n",
    "    \n",
    "    # Generate dates for Q4 2024 (Oct, Nov, Dec)\n",
    "    start_date = datetime(2024, 10, 1)\n",
    "    end_date = datetime(2024, 12, 31)\n",
    "    \n",
    "    data = []\n",
    "    current_date = start_date\n",
    "    \n",
    "    while current_date <= end_date:\n",
    "        # More sales on weekends\n",
    "        is_weekend = current_date.weekday() >= 5\n",
    "        transactions_today = np.random.randint(40, 80) if is_weekend else np.random.randint(20, 50)\n",
    "        \n",
    "        for _ in range(transactions_today):\n",
    "            store = np.random.choice(stores)\n",
    "            product = np.random.choice(list(products.keys()))\n",
    "            min_price, max_price, min_units, max_units = products[product]\n",
    "            \n",
    "            # Add some store preferences\n",
    "            if store == 'Miami' and product == 'Laptop':\n",
    "                max_units = int(max_units * 1.3)\n",
    "            elif store == 'Orlando' and product == 'Smart Watch':\n",
    "                max_units = int(max_units * 1.2)\n",
    "            \n",
    "            units = np.random.randint(min_units, max_units)\n",
    "            unit_price = np.random.uniform(min_price, max_price)\n",
    "            \n",
    "            # Black Friday and Cyber Monday boost\n",
    "            if current_date.month == 11 and 24 <= current_date.day <= 30:\n",
    "                units = int(units * 2.5)\n",
    "                unit_price *= 0.8  # 20% discount\n",
    "            \n",
    "            data.append({\n",
    "                'Date': current_date,\n",
    "                'Store': store,\n",
    "                'Product': product,\n",
    "                'Units_Sold': units,\n",
    "                'Unit_Price': round(unit_price, 2),\n",
    "                'Revenue': round(units * unit_price, 2)\n",
    "            })\n",
    "        \n",
    "        current_date += timedelta(days=1)\n",
    "    \n",
    "    return pd.DataFrame(data)\n",
    "\n",
    "# Generate the data\n",
    "df = generate_sales_data()\n",
    "print(f\"Dataset created with {len(df)} transactions\")\n",
    "print(f\"Date range: {df['Date'].min()} to {df['Date'].max()}\")"
   ]
  },
  {
   "cell_type": "markdown",
   "metadata": {},
   "source": [
    "---\n",
    "\n",
    "## Part 2: Data Exploration (20 points)\n",
    "\n",
    "### Task 2.1: Initial Data Inspection\n",
    "**Your Task:** Explore the structure and content of the dataset. What can you learn about the data?"
   ]
  },
  {
   "cell_type": "code",
   "execution_count": null,
   "metadata": {},
   "outputs": [],
   "source": [
    "# TODO: Display the first 10 rows of the dataset\n",
    "# Hint: Use df.head(10)\n",
    "\n"
   ]
  },
  {
   "cell_type": "code",
   "execution_count": null,
   "metadata": {},
   "outputs": [],
   "source": [
    "# TODO: Display basic information about the dataset\n",
    "# Hint: Use df.info() and df.shape\n",
    "\n"
   ]
  },
  {
   "cell_type": "code",
   "execution_count": null,
   "metadata": {},
   "outputs": [],
   "source": [
    "# TODO: Display summary statistics for numerical columns\n",
    "# Hint: Use df.describe()\n",
    "\n"
   ]
  },
  {
   "cell_type": "markdown",
   "metadata": {},
   "source": [
    "**Your Interpretation:** [Write 2-3 sentences about what you learned from the data exploration]"
   ]
  },
  {
   "cell_type": "markdown",
   "metadata": {},
   "source": [
    "### Task 2.2: Categorical Data Analysis\n",
    "**Your Task:** Understand the categorical variables in the dataset."
   ]
  },
  {
   "cell_type": "code",
   "execution_count": null,
   "metadata": {},
   "outputs": [],
   "source": [
    "# TODO: Find unique stores and products\n",
    "# Display the unique values and their counts\n",
    "\n",
    "print(\"Unique Stores:\")\n",
    "# Your code here\n",
    "\n",
    "print(\"\\nUnique Products:\")\n",
    "# Your code here\n",
    "\n",
    "print(\"\\nTransactions by Store:\")\n",
    "# Your code here - use value_counts()\n"
   ]
  },
  {
   "cell_type": "markdown",
   "metadata": {},
   "source": [
    "---\n",
    "\n",
    "## Part 3: Data Manipulation with Pandas (25 points)\n",
    "\n",
    "### Task 3.1: Add Calculated Columns\n",
    "**Your Task:** Enhance the dataset with additional calculated fields that will help in analysis."
   ]
  },
  {
   "cell_type": "code",
   "execution_count": null,
   "metadata": {},
   "outputs": [],
   "source": [
    "# TODO: Add the following columns to the dataframe:\n",
    "# 1. 'Month' - Extract month name from Date\n",
    "# 2. 'Day_of_Week' - Extract day name from Date\n",
    "# 3. 'Is_Weekend' - Boolean indicating if the sale was on weekend\n",
    "\n",
    "# Extract month\n",
    "df['Month'] = # Your code here\n",
    "\n",
    "# Extract day of week\n",
    "df['Day_of_Week'] = # Your code here\n",
    "\n",
    "# Create weekend indicator\n",
    "df['Is_Weekend'] = # Your code here\n",
    "\n",
    "# Display first few rows to verify\n",
    "df.head()"
   ]
  },
  {
   "cell_type": "markdown",
   "metadata": {},
   "source": [
    "### Task 3.2: Grouping and Aggregation\n",
    "**Your Task:** Use Pandas groupby to answer key business questions."
   ]
  },
  {
   "cell_type": "code",
   "execution_count": null,
   "metadata": {},
   "outputs": [],
   "source": [
    "# TODO: Calculate total revenue by store\n",
    "revenue_by_store = # Your code here\n",
    "\n",
    "print(\"Total Revenue by Store:\")\n",
    "print(revenue_by_store)\n",
    "print(f\"\\nBest performing store: {revenue_by_store.idxmax()}\")\n",
    "print(f\"Revenue difference between best and worst: ${revenue_by_store.max() - revenue_by_store.min():,.2f}\")"
   ]
  },
  {
   "cell_type": "code",
   "execution_count": null,
   "metadata": {},
   "outputs": [],
   "source": [
    "# TODO: Calculate average units sold per product\n",
    "avg_units_by_product = # Your code here\n",
    "\n",
    "print(\"Average Units Sold per Transaction by Product:\")\n",
    "# Your code to display results"
   ]
  },
  {
   "cell_type": "code",
   "execution_count": null,
   "metadata": {},
   "outputs": [],
   "source": [
    "# TODO: Create a summary table showing for each store and product:\n",
    "# - Total units sold\n",
    "# - Total revenue\n",
    "# - Average unit price\n",
    "\n",
    "store_product_summary = df.groupby(['Store', 'Product']).agg({\n",
    "    'Units_Sold': # Your code here,\n",
    "    'Revenue': # Your code here,\n",
    "    'Unit_Price': # Your code here\n",
    "}).round(2)\n",
    "\n",
    "print(\"Store-Product Performance Summary:\")\n",
    "print(store_product_summary.head(10))"
   ]
  },
  {
   "cell_type": "markdown",
   "metadata": {},
   "source": [
    "### Task 3.3: Time-based Analysis\n",
    "**Your Task:** Analyze sales patterns over time."
   ]
  },
  {
   "cell_type": "code",
   "execution_count": null,
   "metadata": {},
   "outputs": [],
   "source": [
    "# TODO: Calculate daily total revenue\n",
    "daily_revenue = # Your code here\n",
    "\n",
    "print(f\"Average daily revenue: ${daily_revenue.mean():,.2f}\")\n",
    "print(f\"Best sales day: {daily_revenue.idxmax()} with ${daily_revenue.max():,.2f}\")\n",
    "print(f\"Worst sales day: {daily_revenue.idxmin()} with ${daily_revenue.min():,.2f}\")"
   ]
  },
  {
   "cell_type": "code",
   "execution_count": null,
   "metadata": {},
   "outputs": [],
   "source": [
    "# TODO: Compare weekend vs weekday sales\n",
    "weekend_comparison = # Your code here\n",
    "\n",
    "print(\"Weekend vs Weekday Sales:\")\n",
    "# Your code to display the comparison"
   ]
  },
  {
   "cell_type": "markdown",
   "metadata": {},
   "source": [
    "---\n",
    "\n",
    "## Part 4: Numerical Analysis with NumPy (15 points)\n",
    "\n",
    "### Task 4.1: Statistical Calculations\n",
    "**Your Task:** Use NumPy to perform efficient numerical calculations."
   ]
  },
  {
   "cell_type": "code",
   "execution_count": null,
   "metadata": {},
   "outputs": [],
   "source": [
    "# TODO: Convert revenue to NumPy array and calculate statistics\n",
    "revenue_array = np.array(df['Revenue'])\n",
    "\n",
    "# Calculate statistics using NumPy\n",
    "revenue_mean = # Your code here\n",
    "revenue_median = # Your code here\n",
    "revenue_std = # Your code here\n",
    "revenue_percentile_25 = # Your code here\n",
    "revenue_percentile_75 = # Your code here\n",
    "\n",
    "print(\"Revenue Statistics (using NumPy):\")\n",
    "print(f\"Mean: ${revenue_mean:,.2f}\")\n",
    "print(f\"Median: ${revenue_median:,.2f}\")\n",
    "print(f\"Standard Deviation: ${revenue_std:,.2f}\")\n",
    "print(f\"25th Percentile: ${revenue_percentile_25:,.2f}\")\n",
    "print(f\"75th Percentile: ${revenue_percentile_75:,.2f}\")"
   ]
  },
  {
   "cell_type": "code",
   "execution_count": null,
   "metadata": {},
   "outputs": [],
   "source": [
    "# TODO: Calculate correlation between Units_Sold and Revenue\n",
    "units_array = # Your code here\n",
    "revenue_array = # Your code here\n",
    "\n",
    "correlation = # Your code here - use np.corrcoef\n",
    "\n",
    "print(f\"Correlation between Units Sold and Revenue: {correlation:.3f}\")\n",
    "print(\"\\nInterpretation: [Write what this correlation means in business terms]\")"
   ]
  },
  {
   "cell_type": "markdown",
   "metadata": {},
   "source": [
    "### Task 4.2: Array Operations\n",
    "**Your Task:** Demonstrate NumPy's efficiency with array operations."
   ]
  },
  {
   "cell_type": "code",
   "execution_count": null,
   "metadata": {},
   "outputs": [],
   "source": [
    "# TODO: Calculate profit margins (assuming 30% cost)\n",
    "# Use NumPy array operations\n",
    "\n",
    "revenue_array = np.array(df['Revenue'])\n",
    "cost_array = # Your code here - multiply revenue by 0.3\n",
    "profit_array = # Your code here - subtract cost from revenue\n",
    "\n",
    "# Add profit to dataframe\n",
    "df['Profit'] = profit_array\n",
    "\n",
    "print(f\"Total Revenue: ${revenue_array.sum():,.2f}\")\n",
    "print(f\"Total Cost: ${cost_array.sum():,.2f}\")\n",
    "print(f\"Total Profit: ${profit_array.sum():,.2f}\")\n",
    "print(f\"Profit Margin: {(profit_array.sum() / revenue_array.sum() * 100):.1f}%\")"
   ]
  },
  {
   "cell_type": "markdown",
   "metadata": {},
   "source": [
    "---\n",
    "\n",
    "## Part 5: Data Visualization with Matplotlib (25 points)\n",
    "\n",
    "### Task 5.1: Revenue by Store (Bar Chart)\n",
    "**Your Task:** Create a bar chart showing total revenue by store."
   ]
  },
  {
   "cell_type": "code",
   "execution_count": null,
   "metadata": {},
   "outputs": [],
   "source": [
    "# TODO: Create a bar chart of revenue by store\n",
    "plt.figure(figsize=(10, 6))\n",
    "\n",
    "# Your code here\n",
    "# Remember to:\n",
    "# - Use the revenue_by_store data from earlier\n",
    "# - Add title, labels, and grid\n",
    "# - Use colors effectively\n",
    "# - Add value labels on bars\n",
    "\n",
    "plt.title('Total Revenue by Store - Q4 2024', fontsize=14, fontweight='bold')\n",
    "plt.xlabel('Store Location')\n",
    "plt.ylabel('Revenue ($)')\n",
    "plt.grid(True, alpha=0.3)\n",
    "\n",
    "plt.tight_layout()\n",
    "plt.show()\n",
    "\n",
    "print(\"Business Insight: [Write 1-2 sentences about what this chart reveals]\")"
   ]
  },
  {
   "cell_type": "markdown",
   "metadata": {},
   "source": [
    "### Task 5.2: Product Performance (Horizontal Bar Chart)\n",
    "**Your Task:** Create a horizontal bar chart showing average units sold by product."
   ]
  },
  {
   "cell_type": "code",
   "execution_count": null,
   "metadata": {},
   "outputs": [],
   "source": [
    "# TODO: Create a horizontal bar chart\n",
    "plt.figure(figsize=(10, 6))\n",
    "\n",
    "# Your code here\n",
    "# Use plt.barh() for horizontal bars\n",
    "\n",
    "plt.title('Average Units Sold per Transaction by Product', fontsize=14, fontweight='bold')\n",
    "plt.xlabel('Average Units Sold')\n",
    "plt.ylabel('Product Category')\n",
    "plt.grid(True, alpha=0.3, axis='x')\n",
    "\n",
    "plt.tight_layout()\n",
    "plt.show()\n",
    "\n",
    "print(\"Business Insight: [Write 1-2 sentences about what this chart reveals]\")"
   ]
  },
  {
   "cell_type": "markdown",
   "metadata": {},
   "source": [
    "### Task 5.3: Daily Revenue Trend (Line Chart)\n",
    "**Your Task:** Create a line chart showing daily revenue over time."
   ]
  },
  {
   "cell_type": "code",
   "execution_count": null,
   "metadata": {},
   "outputs": [],
   "source": [
    "# TODO: Create a line chart of daily revenue\n",
    "plt.figure(figsize=(14, 6))\n",
    "\n",
    "# Your code here\n",
    "# - Plot daily_revenue data\n",
    "# - Add a horizontal line for average\n",
    "# - Highlight the Black Friday period if visible\n",
    "\n",
    "plt.title('Daily Revenue Trend - Q4 2024', fontsize=14, fontweight='bold')\n",
    "plt.xlabel('Date')\n",
    "plt.ylabel('Revenue ($)')\n",
    "plt.grid(True, alpha=0.3)\n",
    "plt.xticks(rotation=45)\n",
    "\n",
    "plt.tight_layout()\n",
    "plt.show()\n",
    "\n",
    "print(\"Business Insight: [Write 1-2 sentences about what this chart reveals]\")"
   ]
  },
  {
   "cell_type": "markdown",
   "metadata": {},
   "source": [
    "### Task 5.4: Product Mix by Store (Grouped Bar Chart)\n",
    "**Your Task:** Create a grouped bar chart showing product sales across stores."
   ]
  },
  {
   "cell_type": "code",
   "execution_count": null,
   "metadata": {},
   "outputs": [],
   "source": [
    "# TODO: Create a grouped bar chart\n",
    "# This is more complex - show revenue by product for each store\n",
    "\n",
    "# Prepare data\n",
    "pivot_data = df.pivot_table(values='Revenue', index='Store', columns='Product', aggfunc='sum')\n",
    "\n",
    "# Create the plot\n",
    "fig, ax = plt.subplots(figsize=(12, 6))\n",
    "\n",
    "# Your code here\n",
    "# Hint: Use pivot_data.plot(kind='bar', ax=ax)\n",
    "\n",
    "plt.title('Product Revenue Distribution by Store', fontsize=14, fontweight='bold')\n",
    "plt.xlabel('Store Location')\n",
    "plt.ylabel('Revenue ($)')\n",
    "plt.legend(title='Product', bbox_to_anchor=(1.05, 1), loc='upper left')\n",
    "plt.grid(True, alpha=0.3, axis='y')\n",
    "\n",
    "plt.tight_layout()\n",
    "plt.show()\n",
    "\n",
    "print(\"Business Insight: [Write 1-2 sentences about what this chart reveals]\")"
   ]
  },
  {
   "cell_type": "markdown",
   "metadata": {},
   "source": [
    "---\n",
    "\n",
    "## Part 6: Business Insights and Recommendations (15 points)\n",
    "\n",
    "### Task 6.1: Key Findings Summary\n",
    "**Your Task:** Summarize your most important findings from the analysis."
   ]
  },
  {
   "cell_type": "markdown",
   "metadata": {},
   "source": [
    "### Key Findings\n",
    "\n",
    "Based on my analysis of TechMart's Q4 2024 sales data, here are the key findings:\n",
    "\n",
    "1. **Top Performing Store:** [Your finding here]\n",
    "   - [Supporting data/evidence]\n",
    "\n",
    "2. **Best Selling Product:** [Your finding here]\n",
    "   - [Supporting data/evidence]\n",
    "\n",
    "3. **Sales Patterns:** [Your finding here]\n",
    "   - [Supporting data/evidence]\n",
    "\n",
    "4. **Regional Preferences:** [Your finding here]\n",
    "   - [Supporting data/evidence]\n",
    "\n",
    "5. **Revenue Drivers:** [Your finding here]\n",
    "   - [Supporting data/evidence]"
   ]
  },
  {
   "cell_type": "markdown",
   "metadata": {},
   "source": [
    "### Task 6.2: Business Recommendations\n",
    "**Your Task:** Provide actionable recommendations based on your analysis."
   ]
  },
  {
   "cell_type": "markdown",
   "metadata": {},
   "source": [
    "### Recommendations for TechMart Leadership\n",
    "\n",
    "Based on the data analysis, I recommend the following actions for 2025:\n",
    "\n",
    "#### 1. Store Operations\n",
    "**Recommendation:** [Your recommendation]\n",
    "**Rationale:** [Data-driven justification]\n",
    "**Expected Impact:** [Potential business impact]\n",
    "\n",
    "#### 2. Product Strategy\n",
    "**Recommendation:** [Your recommendation]\n",
    "**Rationale:** [Data-driven justification]\n",
    "**Expected Impact:** [Potential business impact]\n",
    "\n",
    "#### 3. Staffing Optimization\n",
    "**Recommendation:** [Your recommendation]\n",
    "**Rationale:** [Data-driven justification]\n",
    "**Expected Impact:** [Potential business impact]\n",
    "\n",
    "#### 4. Marketing Focus\n",
    "**Recommendation:** [Your recommendation]\n",
    "**Rationale:** [Data-driven justification]\n",
    "**Expected Impact:** [Potential business impact]\n",
    "\n",
    "### Next Steps\n",
    "To further improve our analysis and decision-making, I recommend:\n",
    "1. [Suggestion for additional data to collect]\n",
    "2. [Suggestion for deeper analysis]\n",
    "3. [Suggestion for tracking metrics]"
   ]
  },
  {
   "cell_type": "markdown",
   "metadata": {},
   "source": [
    "---\n",
    "\n",
    "## Part 7: Technical Reflection (Bonus: 5 points)\n",
    "\n",
    "**Your Task:** Reflect on the tools and techniques used in this analysis."
   ]
  },
  {
   "cell_type": "markdown",
   "metadata": {},
   "source": [
    "### Technical Reflection\n",
    "\n",
    "#### What I Learned\n",
    "[Write 2-3 sentences about what you learned from this assignment]\n",
    "\n",
    "#### Challenges Faced\n",
    "[Describe any challenges you encountered and how you solved them]\n",
    "\n",
    "#### Tools Comparison\n",
    "If I had to do this analysis in Excel instead of Python:\n",
    "- **What would be harder:** [Your thoughts]\n",
    "- **What would be easier:** [Your thoughts]\n",
    "- **Time estimate:** [How much longer/shorter would it take?]\n",
    "\n",
    "#### Future Learning\n",
    "Based on this assignment, I want to learn more about:\n",
    "1. [Topic 1]\n",
    "2. [Topic 2]\n",
    "3. [Topic 3]"
   ]
  },
  {
   "cell_type": "markdown",
   "metadata": {},
   "source": [
    "---\n",
    "\n",
    "## Submission Checklist\n",
    "\n",
    "Before submitting, ensure you have:\n",
    "\n",
    "- [ ] Added your name at the top of the notebook\n",
    "- [ ] Completed all code cells (no TODO comments remaining)\n",
    "- [ ] Written business interpretations for all findings\n",
    "- [ ] Created at least 4 visualizations with proper labels\n",
    "- [ ] Provided actionable business recommendations\n",
    "- [ ] Checked that all code cells run without errors\n",
    "- [ ] Spell-checked your written responses\n",
    "- [ ] Saved the notebook with all outputs visible\n",
    "\n",
    "### How to Submit\n",
    "1. Save this notebook with all outputs (File → Save)\n",
    "2. Export as HTML (File → Download as → HTML)\n",
    "3. Submit both the .ipynb and .html files to Canvas\n",
    "4. Due date: [Check Canvas for deadline]\n",
    "\n",
    "---\n",
    "\n",
    "**Good luck with your analysis!**"
   ]
  }
 ],
 "metadata": {
  "kernelspec": {
   "display_name": "Python 3",
   "language": "python",
   "name": "python3"
  },
  "language_info": {
   "codemirror_mode": {
    "name": "ipython",
    "version": 3
   },
   "file_extension": ".py",
   "mimetype": "text/x-python",
   "name": "python",
   "nbconvert_exporter": "python",
   "pygments_lexer": "ipython3",
   "version": "3.8.0"
  }
 },
 "nbformat": 4,
 "nbformat_minor": 4
}