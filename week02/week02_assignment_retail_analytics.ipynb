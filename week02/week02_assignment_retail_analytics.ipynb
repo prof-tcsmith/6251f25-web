{
 "cells": [
  {
   "cell_type": "markdown",
   "metadata": {},
   "source": [
    "# ISM6251 - Week 2 Assignment\n",
    "# Retail Sales Analysis: From Data to Insights\n",
    "\n",
    "**Student Name:** [Enter your name here]\n",
    "\n",
    "**Student ID:** [Enter your student ID here]\n",
    "\n",
    "**Date:** [Enter submission date]\n",
    "\n",
    "---"
   ]
  },
  {
   "cell_type": "markdown",
   "metadata": {},
   "source": [
    "## Business Context\n",
    "\n",
    "You are a Data Analyst at **TechMart**, analyzing Q4 2024 sales data. The CEO wants to understand:\n",
    "1. Which products and stores are performing best?\n",
    "2. Are there any notable sales patterns?\n",
    "3. What recommendations can you make for 2025?\n",
    "\n",
    "### Assignment Overview\n",
    "- **Part 1:** Setup and Data Generation (5 points)\n",
    "- **Part 2:** Data Loading and Exploration (15 points)\n",
    "- **Part 3:** Data Analysis with Pandas (25 points)\n",
    "- **Part 4:** Visualization with Matplotlib (20 points)\n",
    "- **Part 5:** Business Insights (15 points)\n",
    "- **Total: 80 points**\n",
    "\n",
    "**Estimated Time:** 2-3 hours\n",
    "\n",
    "---"
   ]
  },
  {
   "cell_type": "markdown",
   "metadata": {},
   "source": [
    "## Part 1: Setup and Data Generation (5 points)\n",
    "\n",
    "### Task 1.1: Import Libraries and Set Student ID"
   ]
  },
  {
   "cell_type": "code",
   "execution_count": null,
   "metadata": {},
   "outputs": [],
   "source": [
    "# Import required libraries\n",
    "import pandas as pd\n",
    "import numpy as np\n",
    "import matplotlib.pyplot as plt\n",
    "from datetime import datetime, timedelta\n",
    "import os\n",
    "\n",
    "# TODO: IMPORTANT - Replace with your actual student ID\n",
    "STUDENT_ID = 'UXXX'  # <-- CHANGE THIS TO YOUR STUDENT ID\n",
    "\n",
    "# Create filename for your data\n",
    "data_filename = f\"{STUDENT_ID}-week02.csv\"\n",
    "print(f\"Your data will be saved as: {data_filename}\")\n",
    "\n",
    "# Set random seed for reproducibility\n",
    "np.random.seed(42)\n",
    "\n",
    "# Configure matplotlib\n",
    "%matplotlib inline\n",
    "\n",
    "print(\"Setup complete!\")"
   ]
  },
  {
   "cell_type": "markdown",
   "metadata": {},
   "source": [
    "### Task 1.2: Generate and Save Data"
   ]
  },
  {
   "cell_type": "code",
   "execution_count": null,
   "metadata": {},
   "outputs": [],
   "source": [
    "# Generate sample data (DO NOT MODIFY THIS CELL)\n",
    "def generate_sales_data():\n",
    "    stores = ['Miami', 'Orlando', 'Tampa', 'Jacksonville', 'Tallahassee']\n",
    "    products = {\n",
    "        'Laptop': (800, 1500, 5, 15),\n",
    "        'Smartphone': (400, 1000, 10, 30),\n",
    "        'Headphones': (50, 300, 15, 50),\n",
    "        'Tablet': (300, 800, 8, 20),\n",
    "        'Smart Watch': (200, 500, 10, 25)\n",
    "    }\n",
    "    \n",
    "    start_date = datetime(2024, 10, 1)\n",
    "    end_date = datetime(2024, 12, 31)\n",
    "    \n",
    "    data = []\n",
    "    current_date = start_date\n",
    "    \n",
    "    while current_date <= end_date:\n",
    "        is_weekend = current_date.weekday() >= 5\n",
    "        transactions_today = np.random.randint(40, 80) if is_weekend else np.random.randint(20, 50)\n",
    "        \n",
    "        for _ in range(transactions_today):\n",
    "            store = np.random.choice(stores)\n",
    "            product = np.random.choice(list(products.keys()))\n",
    "            min_price, max_price, min_units, max_units = products[product]\n",
    "            \n",
    "            if store == 'Miami' and product == 'Laptop':\n",
    "                max_units = int(max_units * 1.3)\n",
    "            elif store == 'Orlando' and product == 'Smart Watch':\n",
    "                max_units = int(max_units * 1.2)\n",
    "            \n",
    "            units = np.random.randint(min_units, max_units)\n",
    "            unit_price = np.random.uniform(min_price, max_price)\n",
    "            \n",
    "            if current_date.month == 11 and 24 <= current_date.day <= 30:\n",
    "                units = int(units * 2.5)\n",
    "                unit_price *= 0.8\n",
    "            \n",
    "            data.append({\n",
    "                'Date': current_date,\n",
    "                'Store': store,\n",
    "                'Product': product,\n",
    "                'Units_Sold': units,\n",
    "                'Unit_Price': round(unit_price, 2),\n",
    "                'Revenue': round(units * unit_price, 2)\n",
    "            })\n",
    "        \n",
    "        current_date += timedelta(days=1)\n",
    "    \n",
    "    return pd.DataFrame(data)\n",
    "\n",
    "# Generate and save data\n",
    "df_generated = generate_sales_data()\n",
    "df_generated.to_csv(data_filename, index=False)\n",
    "print(f\"Data saved to: {data_filename}\")\n",
    "print(f\"Total transactions: {len(df_generated)}\")"
   ]
  },
  {
   "cell_type": "markdown",
   "metadata": {},
   "source": [
    "---\n",
    "\n",
    "## Part 2: Data Loading and Exploration (15 points)\n",
    "\n",
    "### Task 2.1: Load and Explore Data"
   ]
  },
  {
   "cell_type": "code",
   "execution_count": null,
   "metadata": {},
   "outputs": [],
   "source": [
    "# TODO: Load the data from your CSV file\n",
    "# Remember to parse dates!\n",
    "df = pd.read_csv(data_filename, parse_dates=['Date'])\n",
    "\n",
    "print(f\"Data loaded: {df.shape[0]} rows, {df.shape[1]} columns\")\n",
    "print(\"\\nFirst 5 rows:\")\n",
    "df.head()"
   ]
  },
  {
   "cell_type": "code",
   "execution_count": null,
   "metadata": {},
   "outputs": [],
   "source": [
    "# TODO: Display basic information about the dataset\n",
    "print(\"Dataset Info:\")\n",
    "df.info()\n",
    "\n",
    "print(\"\\nSummary Statistics:\")\n",
    "df.describe()"
   ]
  },
  {
   "cell_type": "code",
   "execution_count": null,
   "metadata": {},
   "outputs": [],
   "source": [
    "# TODO: Check unique values in categorical columns\n",
    "print(\"Unique Stores:\", df['Store'].unique())\n",
    "print(\"\\nUnique Products:\", df['Product'].unique())\n",
    "print(\"\\nTransactions per Store:\")\n",
    "print(df['Store'].value_counts())"
   ]
  },
  {
   "cell_type": "markdown",
   "metadata": {},
   "source": [
    "**Quick Observation:** [Write 1-2 sentences about what you notice in the data]"
   ]
  },
  {
   "cell_type": "markdown",
   "metadata": {},
   "source": [
    "---\n",
    "\n",
    "## Part 3: Data Analysis with Pandas (25 points)\n",
    "\n",
    "### Task 3.1: Add Time-Based Columns"
   ]
  },
  {
   "cell_type": "code",
   "execution_count": null,
   "metadata": {},
   "outputs": [],
   "source": [
    "# TODO: Add Month and Day_of_Week columns\n",
    "df['Month'] = df['Date'].dt.month_name()\n",
    "df['Day_of_Week'] = df['Date'].dt.day_name()\n",
    "\n",
    "print(\"Columns added successfully!\")\n",
    "print(df[['Date', 'Month', 'Day_of_Week']].head())"
   ]
  },
  {
   "cell_type": "markdown",
   "metadata": {},
   "source": [
    "### Task 3.2: Key Business Questions\n",
    "Answer these three important business questions:"
   ]
  },
  {
   "cell_type": "code",
   "execution_count": null,
   "metadata": {},
   "outputs": [],
   "source": [
    "# Question 1: Which store has the highest total revenue?\n",
    "# TODO: Calculate total revenue by store\n",
    "revenue_by_store = df.groupby('Store')['Revenue'].sum().sort_values(ascending=False)\n",
    "\n",
    "print(\"Total Revenue by Store:\")\n",
    "print(revenue_by_store)\n",
    "print(f\"\\nBest performing store: {revenue_by_store.index[0]} with ${revenue_by_store.values[0]:,.2f}\")"
   ]
  },
  {
   "cell_type": "code",
   "execution_count": null,
   "metadata": {},
   "outputs": [],
   "source": [
    "# Question 2: What is the best-selling product by units?\n",
    "# TODO: Calculate total units sold by product\n",
    "units_by_product = df.groupby('Product')['Units_Sold'].sum().sort_values(ascending=False)\n",
    "\n",
    "print(\"Total Units Sold by Product:\")\n",
    "print(units_by_product)\n",
    "print(f\"\\nBest-selling product: {units_by_product.index[0]} with {units_by_product.values[0]:,} units\")"
   ]
  },
  {
   "cell_type": "code",
   "execution_count": null,
   "metadata": {},
   "outputs": [],
   "source": [
    "# Question 3: How do sales vary by month?\n",
    "# TODO: Calculate total revenue by month\n",
    "revenue_by_month = df.groupby('Month')['Revenue'].sum()[['October', 'November', 'December']]\n",
    "\n",
    "print(\"Revenue by Month:\")\n",
    "for month, revenue in revenue_by_month.items():\n",
    "    print(f\"{month}: ${revenue:,.2f}\")\n",
    "\n",
    "# Calculate percentage increase for Black Friday month\n",
    "nov_increase = (revenue_by_month['November'] - revenue_by_month['October']) / revenue_by_month['October'] * 100\n",
    "print(f\"\\nNovember increase: {nov_increase:.1f}% (Black Friday effect)\")"
   ]
  },
  {
   "cell_type": "markdown",
   "metadata": {},
   "source": [
    "### Task 3.3: Create Summary Table (Optional Bonus: +5 points)\n",
    "Create a pivot table showing average revenue by store and product."
   ]
  },
  {
   "cell_type": "code",
   "execution_count": null,
   "metadata": {},
   "outputs": [],
   "source": [
    "# BONUS: Create pivot table\n",
    "# TODO: Create a pivot table showing average revenue\n",
    "pivot_table = pd.pivot_table(df, \n",
    "                             values='Revenue', \n",
    "                             index='Store', \n",
    "                             columns='Product', \n",
    "                             aggfunc='mean')\n",
    "\n",
    "print(\"Average Revenue per Transaction by Store and Product:\")\n",
    "print(pivot_table.round(2))"
   ]
  },
  {
   "cell_type": "markdown",
   "metadata": {},
   "source": [
    "---\n",
    "\n",
    "## Part 4: Data Visualization with Matplotlib (20 points)\n",
    "\n",
    "Create TWO meaningful visualizations to communicate your findings."
   ]
  },
  {
   "cell_type": "markdown",
   "metadata": {},
   "source": [
    "### Visualization 1: Store Performance"
   ]
  },
  {
   "cell_type": "code",
   "execution_count": null,
   "metadata": {},
   "outputs": [],
   "source": [
    "# TODO: Create a bar chart showing total revenue by store\n",
    "plt.figure(figsize=(10, 6))\n",
    "\n",
    "# Create bar chart\n",
    "stores = revenue_by_store.index\n",
    "revenues = revenue_by_store.values\n",
    "bars = plt.bar(stores, revenues, color=['#1f77b4', '#ff7f0e', '#2ca02c', '#d62728', '#9467bd'])\n",
    "\n",
    "# Add value labels on bars\n",
    "for bar in bars:\n",
    "    height = bar.get_height()\n",
    "    plt.text(bar.get_x() + bar.get_width()/2., height,\n",
    "             f'${height/1000:.0f}K',\n",
    "             ha='center', va='bottom')\n",
    "\n",
    "plt.title('Total Revenue by Store - Q4 2024', fontsize=14, fontweight='bold')\n",
    "plt.xlabel('Store Location')\n",
    "plt.ylabel('Revenue ($)')\n",
    "plt.grid(True, alpha=0.3, axis='y')\n",
    "plt.tight_layout()\n",
    "plt.show()\n",
    "\n",
    "print(\"Insight: [Write 1 sentence about what this chart shows]\")"
   ]
  },
  {
   "cell_type": "markdown",
   "metadata": {},
   "source": [
    "### Visualization 2: Product Analysis"
   ]
  },
  {
   "cell_type": "code",
   "execution_count": null,
   "metadata": {},
   "outputs": [],
   "source": [
    "# TODO: Create a horizontal bar chart for product units sold\n",
    "plt.figure(figsize=(10, 6))\n",
    "\n",
    "# Create horizontal bar chart\n",
    "products = units_by_product.index\n",
    "units = units_by_product.values\n",
    "bars = plt.barh(products, units, color='steelblue')\n",
    "\n",
    "# Add value labels\n",
    "for bar in bars:\n",
    "    width = bar.get_width()\n",
    "    plt.text(width, bar.get_y() + bar.get_height()/2.,\n",
    "             f'{width:,.0f}',\n",
    "             ha='left', va='center')\n",
    "\n",
    "plt.title('Total Units Sold by Product - Q4 2024', fontsize=14, fontweight='bold')\n",
    "plt.xlabel('Units Sold')\n",
    "plt.ylabel('Product')\n",
    "plt.grid(True, alpha=0.3, axis='x')\n",
    "plt.tight_layout()\n",
    "plt.show()\n",
    "\n",
    "print(\"Insight: [Write 1 sentence about what this chart shows]\")"
   ]
  },
  {
   "cell_type": "markdown",
   "metadata": {},
   "source": [
    "### Visualization 3: Time Trend (Optional Bonus: +5 points)"
   ]
  },
  {
   "cell_type": "code",
   "execution_count": null,
   "metadata": {},
   "outputs": [],
   "source": [
    "# BONUS: Create a line chart showing daily revenue trend\n",
    "# TODO: Calculate daily revenue and plot it\n",
    "daily_revenue = df.groupby('Date')['Revenue'].sum()\n",
    "\n",
    "plt.figure(figsize=(14, 6))\n",
    "plt.plot(daily_revenue.index, daily_revenue.values, linewidth=1, color='darkblue')\n",
    "plt.axhline(y=daily_revenue.mean(), color='red', linestyle='--', label=f'Average: ${daily_revenue.mean():,.0f}')\n",
    "\n",
    "plt.title('Daily Revenue Trend - Q4 2024', fontsize=14, fontweight='bold')\n",
    "plt.xlabel('Date')\n",
    "plt.ylabel('Revenue ($)')\n",
    "plt.legend()\n",
    "plt.grid(True, alpha=0.3)\n",
    "plt.xticks(rotation=45)\n",
    "plt.tight_layout()\n",
    "plt.show()\n",
    "\n",
    "print(\"Insight: [Write 1 sentence about any patterns you see]\")"
   ]
  },
  {
   "cell_type": "markdown",
   "metadata": {},
   "source": [
    "---\n",
    "\n",
    "## Part 5: Business Insights and Recommendations (15 points)\n",
    "\n",
    "Based on your analysis, provide insights and recommendations for TechMart."
   ]
  },
  {
   "cell_type": "markdown",
   "metadata": {},
   "source": [
    "### Key Findings\n",
    "\n",
    "Based on my analysis of TechMart's Q4 2024 sales data:\n",
    "\n",
    "1. **Top Performing Store:** [Your finding here with specific numbers]\n",
    "\n",
    "2. **Best Selling Product:** [Your finding here with specific numbers]\n",
    "\n",
    "3. **Seasonal Pattern:** [Your finding about Black Friday or monthly trends]\n",
    "\n",
    "### Recommendations for 2025\n",
    "\n",
    "1. **Store Strategy:** [One specific recommendation based on store performance]\n",
    "\n",
    "2. **Product Focus:** [One specific recommendation based on product analysis]\n",
    "\n",
    "3. **Seasonal Planning:** [One specific recommendation based on patterns observed]\n",
    "\n",
    "### Next Steps\n",
    "\n",
    "To improve future analysis, I recommend collecting additional data on:\n",
    "- [One suggestion for additional data]\n",
    "- [Another suggestion for additional data]"
   ]
  },
  {
   "cell_type": "markdown",
   "metadata": {},
   "source": [
    "---\n",
    "\n",
    "## Reflection (Optional Bonus: +5 points)\n",
    "\n",
    "**What was the most interesting finding from your analysis?**\n",
    "\n",
    "[Your answer here - 1-2 sentences]\n",
    "\n",
    "**If you could do this analysis in Excel vs Python, what would be the main difference?**\n",
    "\n",
    "[Your answer here - 1-2 sentences]\n",
    "\n",
    "---\n",
    "\n",
    "## Submission Checklist\n",
    "\n",
    "Before submitting:\n",
    "- [ ] Student name and ID filled in\n",
    "- [ ] All code cells run without errors\n",
    "- [ ] Business insights provided\n",
    "- [ ] At least 2 visualizations created\n",
    "- [ ] CSV file saved with correct name\n",
    "\n",
    "**Files to submit:**\n",
    "1. This notebook (.ipynb)\n",
    "2. HTML export of notebook\n",
    "3. Your CSV data file\n",
    "\n",
    "**Good job completing your first analysis!**"
   ]
  }
 ],
 "metadata": {
  "kernelspec": {
   "display_name": "Python 3",
   "language": "python",
   "name": "python3"
  },
  "language_info": {
   "codemirror_mode": {
    "name": "ipython",
    "version": 3
   },
   "file_extension": ".py",
   "mimetype": "text/x-python",
   "name": "python",
   "nbconvert_exporter": "python",
   "pygments_lexer": "ipython3",
   "version": "3.8.0"
  }
 },
 "nbformat": 4,
 "nbformat_minor": 4
}