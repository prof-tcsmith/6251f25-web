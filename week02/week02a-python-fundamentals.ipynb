{
 "cells": [
  {
   "cell_type": "markdown",
   "metadata": {},
   "source": [
    "# Week 2a: Python Fundamentals\n",
    "## ISM 6251: Introduction to Machine Learning\n",
    "\n",
    "### Learning Objectives\n",
    "By the end of this notebook, you will be able to:\n",
    "1. Work with Python variables and basic data types\n",
    "2. Use operators and create expressions\n",
    "3. Implement control flow with conditionals and loops\n",
    "4. Understand mutable vs immutable objects\n",
    "5. Work with composite data structures (lists, tuples, dictionaries)\n",
    "6. Use list and dictionary comprehensions\n",
    "7. Define and use functions"
   ]
  },
  {
   "cell_type": "markdown",
   "metadata": {},
   "source": [
    "## 1. Variables and Basic Data Types\n",
    "\n",
    "Python is dynamically typed - variables get their type from the value assigned."
   ]
  },
  {
   "cell_type": "code",
   "execution_count": null,
   "metadata": {},
   "outputs": [],
   "source": [
    "# Integer\n",
    "age = 25\n",
    "print(f\"Age: {age}, Type: {type(age)}\")\n",
    "\n",
    "# Float\n",
    "price = 19.99\n",
    "print(f\"Price: {price}, Type: {type(price)}\")\n",
    "\n",
    "# String\n",
    "name = \"Alice\"\n",
    "print(f\"Name: {name}, Type: {type(name)}\")\n",
    "\n",
    "# Boolean\n",
    "is_student = True\n",
    "print(f\"Is student: {is_student}, Type: {type(is_student)}\")"
   ]
  },
  {
   "cell_type": "markdown",
   "metadata": {},
   "source": [
    "### Variable Naming Rules\n",
    "- Must start with letter or underscore\n",
    "- Can contain letters, numbers, underscores\n",
    "- Case sensitive\n",
    "- Cannot be reserved keywords"
   ]
  },
  {
   "cell_type": "code",
   "execution_count": null,
   "metadata": {},
   "outputs": [],
   "source": [
    "# Good variable names\n",
    "user_age = 30\n",
    "total_price = 199.99\n",
    "is_valid = True\n",
    "\n",
    "# Python is case sensitive\n",
    "Name = \"Bob\"\n",
    "name = \"Alice\"\n",
    "print(f\"Name: {Name}, name: {name}\")"
   ]
  },
  {
   "cell_type": "markdown",
   "metadata": {},
   "source": [
    "## 2. Operators and Expressions\n",
    "\n",
    "### Arithmetic Operators"
   ]
  },
  {
   "cell_type": "code",
   "execution_count": null,
   "metadata": {},
   "outputs": [],
   "source": [
    "a = 10\n",
    "b = 3\n",
    "\n",
    "print(f\"Addition: {a} + {b} = {a + b}\")\n",
    "print(f\"Subtraction: {a} - {b} = {a - b}\")\n",
    "print(f\"Multiplication: {a} * {b} = {a * b}\")\n",
    "print(f\"Division: {a} / {b} = {a / b}\")\n",
    "print(f\"Floor division: {a} // {b} = {a // b}\")\n",
    "print(f\"Modulo: {a} % {b} = {a % b}\")\n",
    "print(f\"Exponentiation: {a} ** {b} = {a ** b}\")"
   ]
  },
  {
   "cell_type": "markdown",
   "metadata": {},
   "source": [
    "### Comparison Operators"
   ]
  },
  {
   "cell_type": "code",
   "execution_count": null,
   "metadata": {},
   "outputs": [],
   "source": [
    "x = 5\n",
    "y = 10\n",
    "\n",
    "print(f\"{x} < {y}: {x < y}\")\n",
    "print(f\"{x} <= {y}: {x <= y}\")\n",
    "print(f\"{x} > {y}: {x > y}\")\n",
    "print(f\"{x} >= {y}: {x >= y}\")\n",
    "print(f\"{x} == {y}: {x == y}\")\n",
    "print(f\"{x} != {y}: {x != y}\")"
   ]
  },
  {
   "cell_type": "markdown",
   "metadata": {},
   "source": [
    "### Logical Operators"
   ]
  },
  {
   "cell_type": "code",
   "execution_count": null,
   "metadata": {},
   "outputs": [],
   "source": [
    "a = True\n",
    "b = False\n",
    "\n",
    "print(f\"a and b: {a and b}\")\n",
    "print(f\"a or b: {a or b}\")\n",
    "print(f\"not a: {not a}\")\n",
    "\n",
    "# Compound conditions\n",
    "age = 25\n",
    "has_license = True\n",
    "can_rent_car = age >= 21 and has_license\n",
    "print(f\"Can rent car: {can_rent_car}\")"
   ]
  },
  {
   "cell_type": "markdown",
   "metadata": {},
   "source": [
    "## 3. Strings and String Operations"
   ]
  },
  {
   "cell_type": "code",
   "execution_count": null,
   "metadata": {},
   "outputs": [],
   "source": [
    "# String creation\n",
    "single_quote = 'Hello'\n",
    "double_quote = \"World\"\n",
    "multi_line = \"\"\"This is a\n",
    "multi-line string\"\"\"\n",
    "\n",
    "# String concatenation\n",
    "greeting = single_quote + \" \" + double_quote\n",
    "print(greeting)\n",
    "\n",
    "# String repetition\n",
    "repeated = \"Ha\" * 3\n",
    "print(repeated)"
   ]
  },
  {
   "cell_type": "markdown",
   "metadata": {},
   "source": [
    "### String Indexing and Slicing"
   ]
  },
  {
   "cell_type": "code",
   "execution_count": null,
   "metadata": {},
   "outputs": [],
   "source": [
    "text = \"Python Programming\"\n",
    "\n",
    "# Indexing\n",
    "print(f\"First character: {text[0]}\")\n",
    "print(f\"Last character: {text[-1]}\")\n",
    "\n",
    "# Slicing [start:stop:step]\n",
    "print(f\"First 6 characters: {text[:6]}\")\n",
    "print(f\"From index 7 to end: {text[7:]}\")\n",
    "print(f\"Every other character: {text[::2]}\")\n",
    "print(f\"Reverse string: {text[::-1]}\")"
   ]
  },
  {
   "cell_type": "markdown",
   "metadata": {},
   "source": [
    "### String Methods"
   ]
  },
  {
   "cell_type": "code",
   "execution_count": null,
   "metadata": {},
   "outputs": [],
   "source": [
    "text = \"  Python Programming  \"\n",
    "\n",
    "print(f\"Upper: {text.upper()}\")\n",
    "print(f\"Lower: {text.lower()}\")\n",
    "print(f\"Title: {text.title()}\")\n",
    "print(f\"Strip whitespace: '{text.strip()}'\")\n",
    "print(f\"Replace: {text.replace('Python', 'Java')}\")\n",
    "print(f\"Split: {'Hello,World,Python'.split(',')}\")"
   ]
  },
  {
   "cell_type": "markdown",
   "metadata": {},
   "source": [
    "### F-strings (Formatted String Literals)"
   ]
  },
  {
   "cell_type": "code",
   "execution_count": null,
   "metadata": {},
   "outputs": [],
   "source": [
    "name = \"Alice\"\n",
    "age = 30\n",
    "height = 5.6\n",
    "\n",
    "# Basic f-string\n",
    "print(f\"{name} is {age} years old\")\n",
    "\n",
    "# Formatting numbers\n",
    "pi = 3.14159\n",
    "print(f\"Pi to 2 decimals: {pi:.2f}\")\n",
    "print(f\"Pi to 4 decimals: {pi:.4f}\")\n",
    "\n",
    "# Padding and alignment\n",
    "print(f\"Left aligned: |{name:<10}|\")\n",
    "print(f\"Right aligned: |{name:>10}|\")\n",
    "print(f\"Centered: |{name:^10}|\")"
   ]
  },
  {
   "cell_type": "markdown",
   "metadata": {},
   "source": [
    "## 4. Control Flow\n",
    "\n",
    "### If-Elif-Else Statements"
   ]
  },
  {
   "cell_type": "code",
   "execution_count": null,
   "metadata": {},
   "outputs": [],
   "source": [
    "score = 85\n",
    "\n",
    "if score >= 90:\n",
    "    grade = 'A'\n",
    "elif score >= 80:\n",
    "    grade = 'B'\n",
    "elif score >= 70:\n",
    "    grade = 'C'\n",
    "elif score >= 60:\n",
    "    grade = 'D'\n",
    "else:\n",
    "    grade = 'F'\n",
    "\n",
    "print(f\"Score: {score}, Grade: {grade}\")"
   ]
  },
  {
   "cell_type": "markdown",
   "metadata": {},
   "source": [
    "### For Loops"
   ]
  },
  {
   "cell_type": "code",
   "execution_count": null,
   "metadata": {},
   "outputs": [],
   "source": [
    "# Loop through range\n",
    "print(\"Numbers 0-4:\")\n",
    "for i in range(5):\n",
    "    print(i, end=' ')\n",
    "print()\n",
    "\n",
    "# Loop with start and stop\n",
    "print(\"\\nNumbers 5-9:\")\n",
    "for i in range(5, 10):\n",
    "    print(i, end=' ')\n",
    "print()\n",
    "\n",
    "# Loop with step\n",
    "print(\"\\nEven numbers 0-10:\")\n",
    "for i in range(0, 11, 2):\n",
    "    print(i, end=' ')\n",
    "print()"
   ]
  },
  {
   "cell_type": "markdown",
   "metadata": {},
   "source": [
    "### While Loops"
   ]
  },
  {
   "cell_type": "code",
   "execution_count": null,
   "metadata": {},
   "outputs": [],
   "source": [
    "count = 0\n",
    "total = 0\n",
    "\n",
    "while count < 5:\n",
    "    total += count\n",
    "    print(f\"Count: {count}, Total: {total}\")\n",
    "    count += 1\n",
    "\n",
    "print(f\"Final total: {total}\")"
   ]
  },
  {
   "cell_type": "markdown",
   "metadata": {},
   "source": [
    "## 5. Lists\n",
    "\n",
    "Lists are mutable, ordered sequences that can contain mixed data types."
   ]
  },
  {
   "cell_type": "code",
   "execution_count": null,
   "metadata": {},
   "outputs": [],
   "source": [
    "# Creating lists\n",
    "numbers = [1, 2, 3, 4, 5]\n",
    "mixed = [1, \"hello\", 3.14, True]\n",
    "nested = [[1, 2], [3, 4], [5, 6]]\n",
    "\n",
    "print(f\"Numbers: {numbers}\")\n",
    "print(f\"Mixed types: {mixed}\")\n",
    "print(f\"Nested list: {nested}\")"
   ]
  },
  {
   "cell_type": "markdown",
   "metadata": {},
   "source": [
    "### List Operations"
   ]
  },
  {
   "cell_type": "code",
   "execution_count": null,
   "metadata": {},
   "outputs": [],
   "source": [
    "fruits = ['apple', 'banana', 'orange']\n",
    "\n",
    "# Accessing elements\n",
    "print(f\"First fruit: {fruits[0]}\")\n",
    "print(f\"Last fruit: {fruits[-1]}\")\n",
    "\n",
    "# Modifying lists (mutable)\n",
    "fruits[1] = 'grape'\n",
    "print(f\"Modified: {fruits}\")\n",
    "\n",
    "# Adding elements\n",
    "fruits.append('mango')\n",
    "print(f\"After append: {fruits}\")\n",
    "\n",
    "fruits.insert(1, 'kiwi')\n",
    "print(f\"After insert: {fruits}\")\n",
    "\n",
    "# Removing elements\n",
    "removed = fruits.pop()\n",
    "print(f\"Removed: {removed}, List: {fruits}\")\n",
    "\n",
    "fruits.remove('kiwi')\n",
    "print(f\"After remove: {fruits}\")"
   ]
  },
  {
   "cell_type": "markdown",
   "metadata": {},
   "source": [
    "### List Methods"
   ]
  },
  {
   "cell_type": "code",
   "execution_count": null,
   "metadata": {},
   "outputs": [],
   "source": [
    "numbers = [3, 1, 4, 1, 5, 9, 2, 6]\n",
    "\n",
    "# Useful list methods\n",
    "print(f\"Original: {numbers}\")\n",
    "print(f\"Length: {len(numbers)}\")\n",
    "print(f\"Sum: {sum(numbers)}\")\n",
    "print(f\"Max: {max(numbers)}\")\n",
    "print(f\"Min: {min(numbers)}\")\n",
    "print(f\"Count of 1: {numbers.count(1)}\")\n",
    "print(f\"Index of 5: {numbers.index(5)}\")\n",
    "\n",
    "# Sorting\n",
    "numbers.sort()\n",
    "print(f\"Sorted: {numbers}\")\n",
    "\n",
    "numbers.reverse()\n",
    "print(f\"Reversed: {numbers}\")"
   ]
  },
  {
   "cell_type": "markdown",
   "metadata": {},
   "source": [
    "### List Slicing"
   ]
  },
  {
   "cell_type": "code",
   "execution_count": null,
   "metadata": {},
   "outputs": [],
   "source": [
    "numbers = [0, 1, 2, 3, 4, 5, 6, 7, 8, 9]\n",
    "\n",
    "print(f\"Original: {numbers}\")\n",
    "print(f\"First 3: {numbers[:3]}\")\n",
    "print(f\"Last 3: {numbers[-3:]}\")\n",
    "print(f\"Middle: {numbers[3:7]}\")\n",
    "print(f\"Every other: {numbers[::2]}\")\n",
    "print(f\"Reverse: {numbers[::-1]}\")"
   ]
  },
  {
   "cell_type": "markdown",
   "metadata": {},
   "source": [
    "## 6. Tuples\n",
    "\n",
    "Tuples are immutable, ordered sequences."
   ]
  },
  {
   "cell_type": "code",
   "execution_count": null,
   "metadata": {},
   "outputs": [],
   "source": [
    "# Creating tuples\n",
    "point = (3, 4)\n",
    "rgb = (255, 128, 0)\n",
    "single = (42,)  # Note the comma for single element\n",
    "\n",
    "print(f\"Point: {point}\")\n",
    "print(f\"RGB: {rgb}\")\n",
    "print(f\"Single: {single}\")\n",
    "\n",
    "# Accessing elements\n",
    "x, y = point  # Tuple unpacking\n",
    "print(f\"x: {x}, y: {y}\")\n",
    "\n",
    "# Tuples are immutable\n",
    "# point[0] = 5  # This would cause an error"
   ]
  },
  {
   "cell_type": "markdown",
   "metadata": {},
   "source": [
    "## 7. Dictionaries\n",
    "\n",
    "Dictionaries store key-value pairs and are mutable."
   ]
  },
  {
   "cell_type": "code",
   "execution_count": null,
   "metadata": {},
   "outputs": [],
   "source": [
    "# Creating dictionaries\n",
    "student = {\n",
    "    'name': 'Alice',\n",
    "    'age': 20,\n",
    "    'grades': [85, 90, 92],\n",
    "    'active': True\n",
    "}\n",
    "\n",
    "print(f\"Student: {student}\")\n",
    "\n",
    "# Accessing values\n",
    "print(f\"Name: {student['name']}\")\n",
    "print(f\"Age: {student.get('age')}\")\n",
    "print(f\"GPA: {student.get('gpa', 'Not found')}\")"
   ]
  },
  {
   "cell_type": "markdown",
   "metadata": {},
   "source": [
    "### Dictionary Operations"
   ]
  },
  {
   "cell_type": "code",
   "execution_count": null,
   "metadata": {},
   "outputs": [],
   "source": [
    "inventory = {'apples': 5, 'bananas': 3, 'oranges': 2}\n",
    "\n",
    "# Adding/updating\n",
    "inventory['grapes'] = 10\n",
    "inventory['apples'] = 7\n",
    "print(f\"Updated: {inventory}\")\n",
    "\n",
    "# Removing\n",
    "del inventory['bananas']\n",
    "print(f\"After delete: {inventory}\")\n",
    "\n",
    "# Dictionary methods\n",
    "print(f\"Keys: {list(inventory.keys())}\")\n",
    "print(f\"Values: {list(inventory.values())}\")\n",
    "print(f\"Items: {list(inventory.items())}\")"
   ]
  },
  {
   "cell_type": "markdown",
   "metadata": {},
   "source": [
    "### Iterating Through Dictionaries"
   ]
  },
  {
   "cell_type": "code",
   "execution_count": null,
   "metadata": {},
   "outputs": [],
   "source": [
    "scores = {'Alice': 85, 'Bob': 92, 'Charlie': 78, 'Diana': 95}\n",
    "\n",
    "# Iterate through keys\n",
    "print(\"Students:\")\n",
    "for name in scores:\n",
    "    print(f\"  {name}\")\n",
    "\n",
    "# Iterate through values\n",
    "print(\"\\nScores:\")\n",
    "for score in scores.values():\n",
    "    print(f\"  {score}\")\n",
    "\n",
    "# Iterate through items\n",
    "print(\"\\nStudent Scores:\")\n",
    "for name, score in scores.items():\n",
    "    print(f\"  {name}: {score}\")"
   ]
  },
  {
   "cell_type": "markdown",
   "source": "## 8. Nested Data Structures\n\nWorking with complex, hierarchical data structures.",
   "metadata": {},
   "execution_count": null,
   "outputs": []
  },
  {
   "cell_type": "code",
   "source": "# List of Dictionaries\n# This is a common pattern for storing records (like database rows)\nstudents = [\n    {'name': 'Alice', 'age': 20, 'grades': {'math': 90, 'science': 85}},\n    {'name': 'Bob', 'age': 21, 'grades': {'math': 75, 'science': 92}},\n    {'name': 'Charlie', 'age': 19, 'grades': {'math': 88, 'science': 79}}\n]\n\nprint(\"List of dictionaries (student records):\")\nfor student in students:\n    print(f\"{student['name']}: Math={student['grades']['math']}, Science={student['grades']['science']}\")\n\n# Accessing nested data\nprint(f\"\\nBob's science grade: {students[1]['grades']['science']}\")\n\n# Adding a new student\nstudents.append({'name': 'Diana', 'age': 22, 'grades': {'math': 95, 'science': 88}})\nprint(f\"\\nTotal students: {len(students)}\")",
   "metadata": {},
   "execution_count": null,
   "outputs": []
  },
  {
   "cell_type": "markdown",
   "source": "### Dictionary of Lists\n\nUseful for grouping related items.",
   "metadata": {}
  },
  {
   "cell_type": "code",
   "source": "# Dictionary of Lists\n# Useful for grouping related items\ncourse_enrollments = {\n    'Math101': ['Alice', 'Bob', 'Charlie'],\n    'Science201': ['Bob', 'Diana', 'Eve'],\n    'English301': ['Alice', 'Charlie', 'Diana', 'Frank']\n}\n\nprint(\"Dictionary of lists (course enrollments):\")\nfor course, students in course_enrollments.items():\n    print(f\"{course}: {', '.join(students)} ({len(students)} students)\")\n\n# Adding a student to a course\ncourse_enrollments['Math101'].append('George')\nprint(f\"\\nUpdated Math101: {course_enrollments['Math101']}\")\n\n# Finding courses for a student\nstudent_name = 'Alice'\ncourses = [course for course, students in course_enrollments.items() if student_name in students]\nprint(f\"\\n{student_name} is enrolled in: {courses}\")",
   "metadata": {},
   "execution_count": null,
   "outputs": []
  },
  {
   "cell_type": "code",
   "source": "# Dictionary of Lists of Dictionaries\n# Complex nested structure for hierarchical data\ndepartments = {\n    'Engineering': [\n        {'name': 'Alice', 'role': 'Senior Engineer', 'years': 5},\n        {'name': 'Bob', 'role': 'Junior Engineer', 'years': 2}\n    ],\n    'Marketing': [\n        {'name': 'Charlie', 'role': 'Marketing Manager', 'years': 7},\n        {'name': 'Diana', 'role': 'Marketing Analyst', 'years': 3}\n    ],\n    'HR': [\n        {'name': 'Eve', 'role': 'HR Director', 'years': 10},\n        {'name': 'Frank', 'role': 'Recruiter', 'years': 1}\n    ]\n}\n\nprint(\"Dictionary of lists of dictionaries (company structure):\")\nfor dept, employees in departments.items():\n    print(f\"\\n{dept} Department:\")\n    for emp in employees:\n        print(f\"  - {emp['name']}: {emp['role']} ({emp['years']} years)\")\n\n# Calculate average years per department\nfor dept, employees in departments.items():\n    avg_years = sum(emp['years'] for emp in employees) / len(employees)\n    print(f\"\\n{dept} average experience: {avg_years:.1f} years\")\n\n# Find all senior staff (5+ years)\nprint(\"\\nSenior staff (5+ years):\")\nfor dept, employees in departments.items():\n    seniors = [emp for emp in employees if emp['years'] >= 5]\n    for emp in seniors:\n        print(f\"  {emp['name']} ({dept}): {emp['years']} years\")",
   "metadata": {},
   "execution_count": null,
   "outputs": []
  },
  {
   "cell_type": "markdown",
   "metadata": {},
   "source": [
    "## 8. Mutable vs Immutable\n",
    "\n",
    "Understanding the difference is crucial for Python programming."
   ]
  },
  {
   "cell_type": "markdown",
   "metadata": {},
   "source": [
    "## 9. List Comprehensions\n",
    "\n",
    "A concise way to create lists based on existing sequences."
   ]
  },
  {
   "cell_type": "markdown",
   "execution_count": null,
   "metadata": {},
   "outputs": [],
   "source": "## 9. Mutable vs Immutable\n\nUnderstanding the difference is crucial for Python programming."
  },
  {
   "cell_type": "markdown",
   "metadata": {},
   "source": "# *args for variable positional arguments\ndef print_scores(*args):\n    \"\"\"Accept any number of scores and calculate statistics\"\"\"\n    if not args:\n        print(\"No scores provided\")\n        return\n    \n    print(f\"Scores received: {args}\")\n    for i, score in enumerate(args, 1):\n        print(f\"  Score {i}: {score}\")\n    \n    print(f\"Average: {sum(args)/len(args):.1f}\")\n    print(f\"Min: {min(args)}, Max: {max(args)}\")\n\nprint_scores(85, 90, 78, 92, 88)\nprint(\"\\n\" + \"-\"*40 + \"\\n\")\n\n# **kwargs for variable keyword arguments\ndef create_profile(**kwargs):\n    \"\"\"Create a user profile from keyword arguments\"\"\"\n    print(\"Creating profile with the following information:\")\n    profile = {}\n    for key, value in kwargs.items():\n        profile[key] = value\n        print(f\"  {key}: {value}\")\n    return profile\n\nuser = create_profile(name=\"Alice\", age=25, city=\"NYC\", role=\"Developer\", active=True)\nprint(f\"\\nProfile created: {user}\")\nprint(\"\\n\" + \"-\"*40 + \"\\n\")\n\n# Combining regular args, *args and **kwargs\ndef process_data(operation, *values, **options):\n    \"\"\"Process data with flexible arguments\"\"\"\n    print(f\"Operation: {operation}\")\n    print(f\"Values: {values}\")\n    print(f\"Options: {options}\")\n    \n    if operation == \"sum\":\n        result = sum(values)\n    elif operation == \"average\":\n        result = sum(values) / len(values) if values else 0\n    elif operation == \"max\":\n        result = max(values) if values else None\n    else:\n        result = None\n    \n    # Apply options\n    if options.get('round_result'):\n        result = round(result, options.get('decimal_places', 2))\n    \n    if options.get('verbose'):\n        print(f\"Result: {result}\")\n    \n    return result\n\n# Examples\nresult1 = process_data(\"sum\", 1, 2, 3, 4, 5, verbose=True)\nresult2 = process_data(\"average\", 10.5, 20.3, 30.7, round_result=True, decimal_places=1, verbose=True)"
  },
  {
   "cell_type": "markdown",
   "execution_count": null,
   "metadata": {},
   "outputs": [],
   "source": "## 10. List Comprehensions\n\nA concise way to create lists based on existing sequences."
  },
  {
   "cell_type": "markdown",
   "source": "## 11. Dictionary Comprehensions",
   "metadata": {},
   "execution_count": null,
   "outputs": []
  },
  {
   "cell_type": "code",
   "metadata": {},
   "source": "# *args for variable positional arguments\ndef print_scores(*args):\n    \"\"\"Accept any number of scores and calculate statistics\"\"\"\n    if not args:\n        print(\"No scores provided\")\n        return\n    \n    print(f\"Scores received: {args}\")\n    for i, score in enumerate(args, 1):\n        print(f\"  Score {i}: {score}\")\n    \n    print(f\"Average: {sum(args)/len(args):.1f}\")\n    print(f\"Min: {min(args)}, Max: {max(args)}\")\n\nprint_scores(85, 90, 78, 92, 88)\nprint(\"\\n\" + \"-\"*40 + \"\\n\")\n\n# **kwargs for variable keyword arguments\ndef create_profile(**kwargs):\n    \"\"\"Create a user profile from keyword arguments\"\"\"\n    print(\"Creating profile with the following information:\")\n    profile = {}\n    for key, value in kwargs.items():\n        profile[key] = value\n        print(f\"  {key}: {value}\")\n    return profile\n\nuser = create_profile(name=\"Alice\", age=25, city=\"NYC\", role=\"Developer\", active=True)\nprint(f\"\\nProfile created: {user}\")\nprint(\"\\n\" + \"-\"*40 + \"\\n\")\n\n# Combining regular args, *args and **kwargs\ndef process_data(operation, *values, **options):\n    \"\"\"Process data with flexible arguments\"\"\"\n    print(f\"Operation: {operation}\")\n    print(f\"Values: {values}\")\n    print(f\"Options: {options}\")\n    \n    if operation == \"sum\":\n        result = sum(values)\n    elif operation == \"average\":\n        result = sum(values) / len(values) if values else 0\n    elif operation == \"max\":\n        result = max(values) if values else None\n    else:\n        result = None\n    \n    # Apply options\n    if options.get('round_result'):\n        result = round(result, options.get('decimal_places', 2))\n    \n    if options.get('verbose'):\n        print(f\"Result: {result}\")\n    \n    return result\n\n# Examples\nresult1 = process_data(\"sum\", 1, 2, 3, 4, 5, verbose=True)\nresult2 = process_data(\"average\", 10.5, 20.3, 30.7, round_result=True, decimal_places=1, verbose=True)"
  },
  {
   "cell_type": "code",
   "source": "# For demonstration, let's create the module dynamically\n# In practice, you would save ml_utils.py as a separate file\n\n# Create a mock module using exec\nmodule_code = \"\"\"\ndef normalize(data):\n    if not data:\n        return []\n    min_val = min(data)\n    max_val = max(data)\n    if max_val == min_val:\n        return [0.5] * len(data)\n    return [(x - min_val) / (max_val - min_val) for x in data]\n\ndef train_test_split(data, test_size=0.2):\n    split_idx = int(len(data) * (1 - test_size))\n    return data[:split_idx], data[split_idx:]\n\ndef accuracy(y_true, y_pred):\n    if len(y_true) != len(y_pred):\n        raise ValueError(\"Lists must have the same length\")\n    correct = sum(1 for true, pred in zip(y_true, y_pred) if true == pred)\n    return correct / len(y_true) if y_true else 0.0\n\"\"\"\n\n# Execute the module code to make functions available\nexec(module_code)\n\n# Now demonstrate how you would normally import and use the module\nprint(\"Example 1: Using the normalize function\")\ndata = [10, 20, 30, 40, 50]\nnormalized = normalize(data)\nprint(f\"Original data: {data}\")\nprint(f\"Normalized: {normalized}\")\n\nprint(\"\\nExample 2: Using train_test_split\")\ntrain, test = train_test_split(data, test_size=0.3)\nprint(f\"Training set: {train}\")\nprint(f\"Test set: {test}\")\n\nprint(\"\\nExample 3: Using accuracy function\")\ny_true = [1, 0, 1, 1, 0, 1]\ny_pred = [1, 0, 0, 1, 0, 1]\nacc = accuracy(y_true, y_pred)\nprint(f\"True labels: {y_true}\")\nprint(f\"Predictions: {y_pred}\")\nprint(f\"Accuracy: {acc:.2%}\")",
   "metadata": {},
   "execution_count": null,
   "outputs": []
  },
  {
   "cell_type": "markdown",
   "source": "## 12. Functions\n\nFunctions help organize code into reusable blocks.",
   "metadata": {},
   "execution_count": null,
   "outputs": []
  },
  {
   "cell_type": "code",
   "execution_count": null,
   "metadata": {},
   "outputs": [],
   "source": [
    "# Basic function\n",
    "def greet(name):\n",
    "    \"\"\"Simple greeting function\"\"\"\n",
    "    return f\"Hello, {name}!\"\n",
    "\n",
    "print(greet(\"Alice\"))\n",
    "\n",
    "# Function with default parameters\n",
    "def power(base, exponent=2):\n",
    "    \"\"\"Calculate base raised to exponent (default 2)\"\"\"\n",
    "    return base ** exponent\n",
    "\n",
    "print(f\"2^2 = {power(2)}\")\n",
    "print(f\"2^3 = {power(2, 3)}\")"
   ]
  },
  {
   "cell_type": "code",
   "metadata": {},
   "source": "# Example: Creating a module for machine learning utilities\n# This would normally be saved as 'ml_utils.py' in your project directory\n\nml_utils_content = '''\"\"\"\nml_utils.py - Utility functions for machine learning tasks\n\"\"\"\n\ndef normalize(data):\n    \"\"\"\n    Perform min-max normalization on data\n    \n    Args:\n        data: List of numerical values\n    \n    Returns:\n        List of normalized values between 0 and 1\n    \"\"\"\n    if not data:\n        return []\n    \n    min_val = min(data)\n    max_val = max(data)\n    \n    if max_val == min_val:\n        return [0.5] * len(data)\n    \n    return [(x - min_val) / (max_val - min_val) for x in data]\n\n\ndef train_test_split(data, labels=None, test_size=0.2, random_state=None):\n    \"\"\"\n    Split data into training and testing sets\n    \n    Args:\n        data: List of data points\n        labels: Optional list of labels\n        test_size: Proportion of data for testing (default 0.2)\n        random_state: Seed for reproducibility\n    \n    Returns:\n        If labels provided: (train_data, test_data, train_labels, test_labels)\n        Otherwise: (train_data, test_data)\n    \"\"\"\n    import random\n    \n    if random_state is not None:\n        random.seed(random_state)\n    \n    n = len(data)\n    test_n = int(n * test_size)\n    \n    indices = list(range(n))\n    random.shuffle(indices)\n    \n    test_indices = set(indices[:test_n])\n    \n    train_data = [data[i] for i in range(n) if i not in test_indices]\n    test_data = [data[i] for i in range(n) if i in test_indices]\n    \n    if labels:\n        train_labels = [labels[i] for i in range(n) if i not in test_indices]\n        test_labels = [labels[i] for i in range(n) if i in test_indices]\n        return train_data, test_data, train_labels, test_labels\n    \n    return train_data, test_data\n\n\ndef accuracy(y_true, y_pred):\n    \"\"\"\n    Calculate accuracy score\n    \n    Args:\n        y_true: List of true labels\n        y_pred: List of predicted labels\n    \n    Returns:\n        Accuracy as a float between 0 and 1\n    \"\"\"\n    if len(y_true) != len(y_pred):\n        raise ValueError(\"Lists must have the same length\")\n    \n    if not y_true:\n        return 0.0\n    \n    correct = sum(1 for true, pred in zip(y_true, y_pred) if true == pred)\n    return correct / len(y_true)\n'''\n\nprint(\"Content of ml_utils.py:\")\nprint(\"=\"*50)\nprint(ml_utils_content)\nprint(\"=\"*50)"
  },
  {
   "cell_type": "code",
   "source": "# Demonstration of how you would use the module\n# In practice, you would save ml_utils.py as a separate file and import it\n\n# For demonstration, let's create the functions dynamically\nexec(ml_utils_content.replace('\"\"\"', '').replace(\"'''\", ''))\n\n# Now demonstrate importing and using the module\n# Normally you would do: import ml_utils\n# Or: from ml_utils import normalize, train_test_split, accuracy\n\nprint(\"\\n\" + \"=\"*50)\nprint(\"Using the ml_utils module:\")\nprint(\"=\"*50)\n\n# Example 1: Normalizing data\ndata = [10, 20, 30, 40, 50]\nnormalized = normalize(data)\nprint(f\"\\nExample 1: Normalization\")\nprint(f\"Original data: {data}\")\nprint(f\"Normalized: {normalized}\")\n\n# Example 2: Train-test split\ndata = list(range(1, 11))\nlabels = ['A', 'B', 'C', 'D', 'E', 'F', 'G', 'H', 'I', 'J']\ntrain_data, test_data, train_labels, test_labels = train_test_split(\n    data, labels, test_size=0.3, random_state=42\n)\nprint(f\"\\nExample 2: Train-Test Split\")\nprint(f\"Training data: {train_data}\")\nprint(f\"Training labels: {train_labels}\")\nprint(f\"Test data: {test_data}\")\nprint(f\"Test labels: {test_labels}\")\n\n# Example 3: Calculating accuracy\ny_true = [1, 0, 1, 1, 0, 1]\ny_pred = [1, 0, 0, 1, 0, 1]\nacc = accuracy(y_true, y_pred)\nprint(f\"\\nExample 3: Accuracy Calculation\")\nprint(f\"True labels: {y_true}\")\nprint(f\"Predictions: {y_pred}\")\nprint(f\"Accuracy: {acc:.2%}\")",
   "metadata": {},
   "execution_count": null,
   "outputs": []
  },
  {
   "cell_type": "code",
   "execution_count": null,
   "metadata": {},
   "outputs": [],
   "source": [
    "def calculate_stats(numbers):\n",
    "    \"\"\"Calculate mean and standard deviation\"\"\"\n",
    "    mean = sum(numbers) / len(numbers)\n",
    "    variance = sum((x - mean) ** 2 for x in numbers) / len(numbers)\n",
    "    std_dev = variance ** 0.5\n",
    "    return mean, std_dev\n",
    "\n",
    "data = [1, 2, 3, 4, 5]\n",
    "avg, std = calculate_stats(data)\n",
    "print(f\"Mean: {avg:.2f}, Std Dev: {std:.2f}\")"
   ]
  },
  {
   "cell_type": "markdown",
   "metadata": {},
   "source": [
    "### Variable Arguments"
   ]
  },
  {
   "cell_type": "code",
   "execution_count": null,
   "metadata": {},
   "outputs": [],
   "source": [
    "# *args for variable positional arguments\n",
    "def sum_all(*numbers):\n",
    "    \"\"\"Sum any number of arguments\"\"\"\n",
    "    return sum(numbers)\n",
    "\n",
    "print(f\"Sum: {sum_all(1, 2, 3, 4, 5)}\")\n",
    "\n",
    "# **kwargs for variable keyword arguments\n",
    "def print_info(**info):\n",
    "    \"\"\"Print key-value pairs\"\"\"\n",
    "    for key, value in info.items():\n",
    "        print(f\"{key}: {value}\")\n",
    "\n",
    "print_info(name=\"Alice\", age=30, city=\"New York\")"
   ]
  },
  {
   "cell_type": "code",
   "execution_count": null,
   "metadata": {},
   "outputs": [],
   "source": [
    "# Lambda functions are small anonymous functions\n",
    "square = lambda x: x**2\n",
    "print(f\"Square of 5: {square(5)}\")\n",
    "\n",
    "# Often used with map, filter, sorted\n",
    "numbers = [1, 2, 3, 4, 5]\n",
    "squared = list(map(lambda x: x**2, numbers))\n",
    "print(f\"Squared: {squared}\")\n",
    "\n",
    "evens = list(filter(lambda x: x % 2 == 0, numbers))\n",
    "print(f\"Evens: {evens}\")\n",
    "\n",
    "# Sorting with lambda\n",
    "students = [('Alice', 85), ('Bob', 75), ('Charlie', 95)]\n",
    "students.sort(key=lambda x: x[1], reverse=True)\n",
    "print(f\"Sorted by grade: {students}\")"
   ]
  },
  {
   "cell_type": "code",
   "execution_count": null,
   "metadata": {},
   "outputs": [],
   "source": [
    "def celsius_to_fahrenheit(celsius):\n",
    "    \"\"\"Convert Celsius to Fahrenheit\"\"\"\n",
    "    return (celsius * 9/5) + 32\n",
    "\n",
    "def fahrenheit_to_celsius(fahrenheit):\n",
    "    \"\"\"Convert Fahrenheit to Celsius\"\"\"\n",
    "    return (fahrenheit - 32) * 5/9\n",
    "\n",
    "# Test the functions\n",
    "temps_c = [0, 20, 37, 100]\n",
    "for temp in temps_c:\n",
    "    f = celsius_to_fahrenheit(temp)\n",
    "    print(f\"{temp}°C = {f:.1f}°F\")"
   ]
  },
  {
   "cell_type": "markdown",
   "metadata": {},
   "source": [
    "### Exercise 2: Word Frequency Counter"
   ]
  },
  {
   "cell_type": "code",
   "execution_count": null,
   "metadata": {},
   "outputs": [],
   "source": [
    "def count_words(text):\n",
    "    \"\"\"Count frequency of words in text\"\"\"\n",
    "    # Convert to lowercase and split\n",
    "    words = text.lower().split()\n",
    "    \n",
    "    # Count frequencies\n",
    "    freq = {}\n",
    "    for word in words:\n",
    "        # Remove punctuation\n",
    "        word = word.strip('.,!?;:')\n",
    "        freq[word] = freq.get(word, 0) + 1\n",
    "    \n",
    "    return freq\n",
    "\n",
    "text = \"This is a test. This test is simple. Simple is good.\"\n",
    "word_freq = count_words(text)\n",
    "for word, count in sorted(word_freq.items(), key=lambda x: x[1], reverse=True):\n",
    "    print(f\"{word}: {count}\")"
   ]
  },
  {
   "cell_type": "markdown",
   "metadata": {},
   "source": [
    "### Exercise 3: List Statistics"
   ]
  },
  {
   "cell_type": "code",
   "execution_count": null,
   "metadata": {},
   "outputs": [],
   "source": [
    "def list_stats(numbers):\n",
    "    \"\"\"Calculate various statistics for a list\"\"\"\n",
    "    if not numbers:\n",
    "        return None\n",
    "    \n",
    "    stats = {\n",
    "        'count': len(numbers),\n",
    "        'sum': sum(numbers),\n",
    "        'mean': sum(numbers) / len(numbers),\n",
    "        'min': min(numbers),\n",
    "        'max': max(numbers),\n",
    "        'range': max(numbers) - min(numbers)\n",
    "    }\n",
    "    \n",
    "    # Calculate median\n",
    "    sorted_nums = sorted(numbers)\n",
    "    n = len(sorted_nums)\n",
    "    if n % 2 == 0:\n",
    "        stats['median'] = (sorted_nums[n//2-1] + sorted_nums[n//2]) / 2\n",
    "    else:\n",
    "        stats['median'] = sorted_nums[n//2]\n",
    "    \n",
    "    return stats\n",
    "\n",
    "data = [5, 2, 8, 1, 9, 3, 7, 4, 6]\n",
    "results = list_stats(data)\n",
    "for key, value in results.items():\n",
    "    print(f\"{key}: {value}\")"
   ]
  },
  {
   "cell_type": "markdown",
   "metadata": {},
   "source": [
    "## Summary\n",
    "\n",
    "In this notebook, we covered:\n",
    "\n",
    "1. **Variables and Data Types**: int, float, str, bool\n",
    "2. **Operators**: Arithmetic, comparison, logical\n",
    "3. **Strings**: Creation, indexing, slicing, methods, formatting\n",
    "4. **Control Flow**: if-elif-else, for loops, while loops\n",
    "5. **Lists**: Creation, modification, methods, slicing\n",
    "6. **Tuples**: Immutable sequences\n",
    "7. **Dictionaries**: Key-value pairs, methods, iteration\n",
    "8. **Mutable vs Immutable**: Important distinction in Python\n",
    "9. **Comprehensions**: List and dictionary comprehensions\n",
    "10. **Functions**: Definition, parameters, return values, lambda functions\n",
    "\n",
    "These fundamentals form the foundation for data science and machine learning in Python."
   ]
  }
 ],
 "metadata": {
  "kernelspec": {
   "display_name": "Python 3",
   "language": "python",
   "name": "python3"
  },
  "language_info": {
   "codemirror_mode": {
    "name": "ipython",
    "version": 3
   },
   "file_extension": ".py",
   "mimetype": "text/x-python",
   "name": "python",
   "nbconvert_exporter": "python",
   "pygments_lexer": "ipython3",
   "version": "3.8.0"
  }
 },
 "nbformat": 4,
 "nbformat_minor": 4
}