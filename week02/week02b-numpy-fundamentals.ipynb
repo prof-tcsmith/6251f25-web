{
 "cells": [
  {
   "cell_type": "markdown",
   "metadata": {},
   "source": [
    "# Week 2b: NumPy Fundamentals\n",
    "## ISM 6251: Introduction to Machine Learning\n",
    "\n",
    "### Learning Objectives\n",
    "By the end of this notebook, you will be able to:\n",
    "1. Create and manipulate NumPy arrays\n",
    "2. Perform array indexing and slicing\n",
    "3. Use array broadcasting\n",
    "4. Apply mathematical operations on arrays\n",
    "5. Understand array shapes and reshaping\n",
    "6. Generate random numbers with NumPy"
   ]
  },
  {
   "cell_type": "markdown",
   "metadata": {},
   "source": [
    "## 1. Introduction to NumPy\n",
    "\n",
    "NumPy (Numerical Python) is the foundation for scientific computing in Python. It provides:\n",
    "- Efficient array operations\n",
    "- Mathematical functions\n",
    "- Tools for linear algebra\n",
    "- Random number generation"
   ]
  },
  {
   "cell_type": "code",
   "execution_count": null,
   "metadata": {},
   "outputs": [],
   "source": [
    "import numpy as np\n",
    "\n",
    "# Check NumPy version\n",
    "print(f\"NumPy version: {np.__version__}\")"
   ]
  },
  {
   "cell_type": "markdown",
   "metadata": {},
   "source": [
    "## 2. Creating NumPy Arrays\n",
    "\n",
    "### From Python Lists"
   ]
  },
  {
   "cell_type": "code",
   "execution_count": null,
   "metadata": {},
   "outputs": [],
   "source": [
    "# 1D array\n",
    "arr1d = np.array([1, 2, 3, 4, 5])\n",
    "print(f\"1D array: {arr1d}\")\n",
    "print(f\"Shape: {arr1d.shape}\")\n",
    "print(f\"Data type: {arr1d.dtype}\")\n",
    "\n",
    "# 2D array\n",
    "arr2d = np.array([[1, 2, 3],\n",
    "                  [4, 5, 6],\n",
    "                  [7, 8, 9]])\n",
    "print(f\"\\n2D array:\\n{arr2d}\")\n",
    "print(f\"Shape: {arr2d.shape}\")\n",
    "print(f\"Dimensions: {arr2d.ndim}\")"
   ]
  },
  {
   "cell_type": "markdown",
   "metadata": {},
   "source": [
    "### Using NumPy Functions"
   ]
  },
  {
   "cell_type": "code",
   "execution_count": null,
   "metadata": {},
   "outputs": [],
   "source": [
    "# Zeros\n",
    "zeros = np.zeros((3, 4))\n",
    "print(f\"Zeros:\\n{zeros}\")\n",
    "\n",
    "# Ones\n",
    "ones = np.ones((2, 3))\n",
    "print(f\"\\nOnes:\\n{ones}\")\n",
    "\n",
    "# Full (filled with specific value)\n",
    "full = np.full((2, 2), 7)\n",
    "print(f\"\\nFull:\\n{full}\")\n",
    "\n",
    "# Identity matrix\n",
    "identity = np.eye(3)\n",
    "print(f\"\\nIdentity:\\n{identity}\")"
   ]
  },
  {
   "cell_type": "markdown",
   "metadata": {},
   "source": [
    "### Range Arrays"
   ]
  },
  {
   "cell_type": "code",
   "execution_count": null,
   "metadata": {},
   "outputs": [],
   "source": [
    "# Arange (similar to Python's range)\n",
    "arr_range = np.arange(0, 10, 2)\n",
    "print(f\"Arange: {arr_range}\")\n",
    "\n",
    "# Linspace (evenly spaced numbers)\n",
    "arr_linspace = np.linspace(0, 1, 5)\n",
    "print(f\"Linspace: {arr_linspace}\")\n",
    "\n",
    "# Logspace (logarithmically spaced)\n",
    "arr_logspace = np.logspace(0, 2, 5)\n",
    "print(f\"Logspace: {arr_logspace}\")"
   ]
  },
  {
   "cell_type": "markdown",
   "metadata": {},
   "source": [
    "## 3. Array Properties and Attributes"
   ]
  },
  {
   "cell_type": "code",
   "execution_count": null,
   "metadata": {},
   "outputs": [],
   "source": [
    "arr = np.array([[1, 2, 3, 4],\n",
    "                [5, 6, 7, 8],\n",
    "                [9, 10, 11, 12]])\n",
    "\n",
    "print(f\"Array:\\n{arr}\")\n",
    "print(f\"\\nShape: {arr.shape}\")\n",
    "print(f\"Size (total elements): {arr.size}\")\n",
    "print(f\"Dimensions: {arr.ndim}\")\n",
    "print(f\"Data type: {arr.dtype}\")\n",
    "print(f\"Item size (bytes): {arr.itemsize}\")\n",
    "print(f\"Total bytes: {arr.nbytes}\")"
   ]
  },
  {
   "cell_type": "markdown",
   "metadata": {},
   "source": [
    "## 4. Array Indexing and Slicing\n",
    "\n",
    "### 1D Array Indexing"
   ]
  },
  {
   "cell_type": "code",
   "execution_count": null,
   "metadata": {},
   "outputs": [],
   "source": [
    "arr1d = np.array([10, 20, 30, 40, 50])\n",
    "\n",
    "print(f\"Array: {arr1d}\")\n",
    "print(f\"First element: {arr1d[0]}\")\n",
    "print(f\"Last element: {arr1d[-1]}\")\n",
    "print(f\"Slice [1:4]: {arr1d[1:4]}\")\n",
    "print(f\"Every other element: {arr1d[::2]}\")\n",
    "print(f\"Reversed: {arr1d[::-1]}\")"
   ]
  },
  {
   "cell_type": "markdown",
   "metadata": {},
   "source": [
    "### 2D Array Indexing"
   ]
  },
  {
   "cell_type": "code",
   "execution_count": null,
   "metadata": {},
   "outputs": [],
   "source": [
    "arr2d = np.array([[1, 2, 3],\n",
    "                  [4, 5, 6],\n",
    "                  [7, 8, 9]])\n",
    "\n",
    "print(f\"Array:\\n{arr2d}\")\n",
    "print(f\"\\nElement at [1,2]: {arr2d[1, 2]}\")\n",
    "print(f\"First row: {arr2d[0]}\")\n",
    "print(f\"First column: {arr2d[:, 0]}\")\n",
    "print(f\"Sub-array [0:2, 1:3]:\\n{arr2d[0:2, 1:3]}\")"
   ]
  },
  {
   "cell_type": "markdown",
   "metadata": {},
   "source": [
    "### Boolean Indexing"
   ]
  },
  {
   "cell_type": "code",
   "execution_count": null,
   "metadata": {},
   "outputs": [],
   "source": [
    "arr = np.array([1, 2, 3, 4, 5, 6, 7, 8, 9])\n",
    "\n",
    "# Boolean mask\n",
    "mask = arr > 5\n",
    "print(f\"Array: {arr}\")\n",
    "print(f\"Mask (arr > 5): {mask}\")\n",
    "print(f\"Elements > 5: {arr[mask]}\")\n",
    "\n",
    "# Direct boolean indexing\n",
    "print(f\"Even numbers: {arr[arr % 2 == 0]}\")"
   ]
  },
  {
   "cell_type": "markdown",
   "metadata": {},
   "source": [
    "## 5. Array Operations\n",
    "\n",
    "### Element-wise Operations"
   ]
  },
  {
   "cell_type": "code",
   "execution_count": null,
   "metadata": {},
   "outputs": [],
   "source": [
    "arr1 = np.array([1, 2, 3, 4])\n",
    "arr2 = np.array([5, 6, 7, 8])\n",
    "\n",
    "print(f\"arr1: {arr1}\")\n",
    "print(f\"arr2: {arr2}\")\n",
    "print(f\"\\nAddition: {arr1 + arr2}\")\n",
    "print(f\"Subtraction: {arr2 - arr1}\")\n",
    "print(f\"Multiplication: {arr1 * arr2}\")\n",
    "print(f\"Division: {arr2 / arr1}\")\n",
    "print(f\"Power: {arr1 ** 2}\")"
   ]
  },
  {
   "cell_type": "markdown",
   "metadata": {},
   "source": [
    "### Scalar Operations"
   ]
  },
  {
   "cell_type": "code",
   "execution_count": null,
   "metadata": {},
   "outputs": [],
   "source": [
    "arr = np.array([1, 2, 3, 4, 5])\n",
    "\n",
    "print(f\"Original: {arr}\")\n",
    "print(f\"Add 10: {arr + 10}\")\n",
    "print(f\"Multiply by 2: {arr * 2}\")\n",
    "print(f\"Square root: {np.sqrt(arr)}\")\n",
    "print(f\"Exponential: {np.exp(arr)}\")"
   ]
  },
  {
   "cell_type": "markdown",
   "metadata": {},
   "source": [
    "## 6. Broadcasting\n",
    "\n",
    "Broadcasting allows operations between arrays of different shapes."
   ]
  },
  {
   "cell_type": "code",
   "execution_count": null,
   "metadata": {},
   "outputs": [],
   "source": [
    "# 2D array and 1D array\n",
    "matrix = np.array([[1, 2, 3],\n",
    "                   [4, 5, 6],\n",
    "                   [7, 8, 9]])\n",
    "vector = np.array([1, 0, 1])\n",
    "\n",
    "print(f\"Matrix:\\n{matrix}\")\n",
    "print(f\"\\nVector: {vector}\")\n",
    "print(f\"\\nMatrix + Vector (broadcasting):\\n{matrix + vector}\")\n",
    "\n",
    "# Column vector\n",
    "col_vector = np.array([[10], [20], [30]])\n",
    "print(f\"\\nColumn vector:\\n{col_vector}\")\n",
    "print(f\"\\nMatrix + Column vector:\\n{matrix + col_vector}\")"
   ]
  },
  {
   "cell_type": "markdown",
   "metadata": {},
   "source": [
    "## 7. Array Reshaping"
   ]
  },
  {
   "cell_type": "code",
   "execution_count": null,
   "metadata": {},
   "outputs": [],
   "source": [
    "# Create a 1D array\n",
    "arr = np.arange(12)\n",
    "print(f\"Original: {arr}\")\n",
    "print(f\"Shape: {arr.shape}\")\n",
    "\n",
    "# Reshape to 2D\n",
    "reshaped_2d = arr.reshape(3, 4)\n",
    "print(f\"\\nReshaped to (3,4):\\n{reshaped_2d}\")\n",
    "\n",
    "# Reshape to 3D\n",
    "reshaped_3d = arr.reshape(2, 2, 3)\n",
    "print(f\"\\nReshaped to (2,2,3):\\n{reshaped_3d}\")\n",
    "\n",
    "# Flatten back to 1D\n",
    "flattened = reshaped_2d.flatten()\n",
    "print(f\"\\nFlattened: {flattened}\")"
   ]
  },
  {
   "cell_type": "markdown",
   "metadata": {},
   "source": [
    "### Transpose"
   ]
  },
  {
   "cell_type": "code",
   "execution_count": null,
   "metadata": {},
   "outputs": [],
   "source": [
    "matrix = np.array([[1, 2, 3],\n",
    "                   [4, 5, 6]])\n",
    "\n",
    "print(f\"Original:\\n{matrix}\")\n",
    "print(f\"Shape: {matrix.shape}\")\n",
    "\n",
    "transposed = matrix.T\n",
    "print(f\"\\nTransposed:\\n{transposed}\")\n",
    "print(f\"Shape: {transposed.shape}\")"
   ]
  },
  {
   "cell_type": "markdown",
   "metadata": {},
   "source": [
    "## 8. Mathematical Functions\n",
    "\n",
    "### Trigonometric Functions"
   ]
  },
  {
   "cell_type": "code",
   "execution_count": null,
   "metadata": {},
   "outputs": [],
   "source": [
    "angles = np.array([0, np.pi/4, np.pi/2, np.pi])\n",
    "\n",
    "print(f\"Angles (radians): {angles}\")\n",
    "print(f\"Sin: {np.sin(angles)}\")\n",
    "print(f\"Cos: {np.cos(angles)}\")\n",
    "print(f\"Tan: {np.tan(angles)}\")"
   ]
  },
  {
   "cell_type": "markdown",
   "metadata": {},
   "source": [
    "### Statistical Functions"
   ]
  },
  {
   "cell_type": "code",
   "execution_count": null,
   "metadata": {},
   "outputs": [],
   "source": [
    "data = np.array([2, 4, 6, 8, 10, 12, 14, 16, 18, 20])\n",
    "\n",
    "print(f\"Data: {data}\")\n",
    "print(f\"\\nMean: {np.mean(data)}\")\n",
    "print(f\"Median: {np.median(data)}\")\n",
    "print(f\"Standard deviation: {np.std(data)}\")\n",
    "print(f\"Variance: {np.var(data)}\")\n",
    "print(f\"Min: {np.min(data)}\")\n",
    "print(f\"Max: {np.max(data)}\")\n",
    "print(f\"Sum: {np.sum(data)}\")\n",
    "print(f\"Cumulative sum: {np.cumsum(data)}\")"
   ]
  },
  {
   "cell_type": "markdown",
   "metadata": {},
   "source": [
    "### Aggregation Along Axes"
   ]
  },
  {
   "cell_type": "code",
   "execution_count": null,
   "metadata": {},
   "outputs": [],
   "source": [
    "matrix = np.array([[1, 2, 3],\n",
    "                   [4, 5, 6],\n",
    "                   [7, 8, 9]])\n",
    "\n",
    "print(f\"Matrix:\\n{matrix}\")\n",
    "print(f\"\\nSum of all elements: {np.sum(matrix)}\")\n",
    "print(f\"Sum along rows (axis=0): {np.sum(matrix, axis=0)}\")\n",
    "print(f\"Sum along columns (axis=1): {np.sum(matrix, axis=1)}\")\n",
    "print(f\"\\nMean along rows: {np.mean(matrix, axis=0)}\")\n",
    "print(f\"Mean along columns: {np.mean(matrix, axis=1)}\")"
   ]
  },
  {
   "cell_type": "markdown",
   "metadata": {},
   "source": [
    "## 9. Array Concatenation and Splitting\n",
    "\n",
    "### Concatenation"
   ]
  },
  {
   "cell_type": "code",
   "execution_count": null,
   "metadata": {},
   "outputs": [],
   "source": [
    "arr1 = np.array([1, 2, 3])\n",
    "arr2 = np.array([4, 5, 6])\n",
    "\n",
    "# Concatenate 1D arrays\n",
    "concat = np.concatenate([arr1, arr2])\n",
    "print(f\"Concatenated: {concat}\")\n",
    "\n",
    "# 2D arrays\n",
    "matrix1 = np.array([[1, 2], [3, 4]])\n",
    "matrix2 = np.array([[5, 6], [7, 8]])\n",
    "\n",
    "# Vertical stack\n",
    "vstack = np.vstack([matrix1, matrix2])\n",
    "print(f\"\\nVertical stack:\\n{vstack}\")\n",
    "\n",
    "# Horizontal stack\n",
    "hstack = np.hstack([matrix1, matrix2])\n",
    "print(f\"\\nHorizontal stack:\\n{hstack}\")"
   ]
  },
  {
   "cell_type": "markdown",
   "metadata": {},
   "source": [
    "### Splitting"
   ]
  },
  {
   "cell_type": "code",
   "execution_count": null,
   "metadata": {},
   "outputs": [],
   "source": [
    "arr = np.arange(12)\n",
    "print(f\"Original: {arr}\")\n",
    "\n",
    "# Split into 3 equal parts\n",
    "splits = np.split(arr, 3)\n",
    "for i, split in enumerate(splits):\n",
    "    print(f\"Split {i+1}: {split}\")\n",
    "\n",
    "# 2D splitting\n",
    "matrix = np.arange(16).reshape(4, 4)\n",
    "print(f\"\\nMatrix:\\n{matrix}\")\n",
    "\n",
    "# Split horizontally\n",
    "hsplits = np.hsplit(matrix, 2)\n",
    "print(f\"\\nHorizontal splits:\")\n",
    "for i, split in enumerate(hsplits):\n",
    "    print(f\"Split {i+1}:\\n{split}\")"
   ]
  },
  {
   "cell_type": "markdown",
   "metadata": {},
   "source": [
    "## 10. Random Number Generation\n",
    "\n",
    "### Basic Random Numbers"
   ]
  },
  {
   "cell_type": "code",
   "execution_count": null,
   "metadata": {},
   "outputs": [],
   "source": [
    "# Set seed for reproducibility\n",
    "np.random.seed(42)\n",
    "\n",
    "# Random floats between 0 and 1\n",
    "rand_uniform = np.random.random(5)\n",
    "print(f\"Uniform [0,1): {rand_uniform}\")\n",
    "\n",
    "# Random integers\n",
    "rand_int = np.random.randint(1, 11, size=5)\n",
    "print(f\"Random integers [1,10]: {rand_int}\")\n",
    "\n",
    "# Random choice\n",
    "choices = np.random.choice(['A', 'B', 'C', 'D'], size=10)\n",
    "print(f\"Random choices: {choices}\")"
   ]
  },
  {
   "cell_type": "markdown",
   "metadata": {},
   "source": [
    "### Random Distributions"
   ]
  },
  {
   "cell_type": "code",
   "execution_count": null,
   "metadata": {},
   "outputs": [],
   "source": [
    "# Normal distribution\n",
    "normal = np.random.normal(loc=0, scale=1, size=5)\n",
    "print(f\"Normal (mean=0, std=1): {normal}\")\n",
    "\n",
    "# Uniform distribution\n",
    "uniform = np.random.uniform(low=0, high=10, size=5)\n",
    "print(f\"Uniform [0,10): {uniform}\")\n",
    "\n",
    "# Binomial distribution\n",
    "binomial = np.random.binomial(n=10, p=0.5, size=5)\n",
    "print(f\"Binomial (n=10, p=0.5): {binomial}\")\n",
    "\n",
    "# 2D random array\n",
    "rand_2d = np.random.randn(3, 3)\n",
    "print(f\"\\n2D Normal distribution:\\n{rand_2d}\")"
   ]
  },
  {
   "cell_type": "markdown",
   "metadata": {},
   "source": [
    "## 11. Practical Examples\n",
    "\n",
    "### Example 1: Data Normalization"
   ]
  },
  {
   "cell_type": "code",
   "execution_count": null,
   "metadata": {},
   "outputs": [],
   "source": [
    "# Generate sample data\n",
    "data = np.random.randn(100) * 50 + 100\n",
    "\n",
    "# Min-max normalization\n",
    "data_minmax = (data - data.min()) / (data.max() - data.min())\n",
    "\n",
    "# Z-score normalization\n",
    "data_zscore = (data - data.mean()) / data.std()\n",
    "\n",
    "print(f\"Original - Mean: {data.mean():.2f}, Std: {data.std():.2f}\")\n",
    "print(f\"Min-Max - Min: {data_minmax.min():.2f}, Max: {data_minmax.max():.2f}\")\n",
    "print(f\"Z-score - Mean: {data_zscore.mean():.2e}, Std: {data_zscore.std():.2f}\")"
   ]
  },
  {
   "cell_type": "markdown",
   "metadata": {},
   "source": [
    "### Example 2: Distance Calculation"
   ]
  },
  {
   "cell_type": "code",
   "execution_count": null,
   "metadata": {},
   "outputs": [],
   "source": [
    "# Two points in 3D space\n",
    "point1 = np.array([1, 2, 3])\n",
    "point2 = np.array([4, 6, 8])\n",
    "\n",
    "# Euclidean distance\n",
    "euclidean = np.sqrt(np.sum((point2 - point1)**2))\n",
    "# Or using np.linalg.norm\n",
    "euclidean2 = np.linalg.norm(point2 - point1)\n",
    "\n",
    "# Manhattan distance\n",
    "manhattan = np.sum(np.abs(point2 - point1))\n",
    "\n",
    "print(f\"Point 1: {point1}\")\n",
    "print(f\"Point 2: {point2}\")\n",
    "print(f\"Euclidean distance: {euclidean:.2f}\")\n",
    "print(f\"Manhattan distance: {manhattan}\")"
   ]
  },
  {
   "cell_type": "markdown",
   "metadata": {},
   "source": [
    "### Example 3: Moving Average"
   ]
  },
  {
   "cell_type": "code",
   "execution_count": null,
   "metadata": {},
   "outputs": [],
   "source": [
    "# Generate time series data\n",
    "time_series = np.cumsum(np.random.randn(20))\n",
    "\n",
    "# Calculate 3-point moving average\n",
    "window = 3\n",
    "moving_avg = np.convolve(time_series, np.ones(window)/window, mode='valid')\n",
    "\n",
    "print(f\"Original data: {time_series[:10]}\")\n",
    "print(f\"Moving average: {moving_avg[:8]}\")"
   ]
  },
  {
   "cell_type": "markdown",
   "metadata": {},
   "source": [
    "## 12. Performance Comparison: Lists vs NumPy"
   ]
  },
  {
   "cell_type": "code",
   "execution_count": null,
   "metadata": {},
   "outputs": [],
   "source": [
    "import time\n",
    "\n",
    "# Create large lists and arrays\n",
    "size = 1000000\n",
    "list1 = list(range(size))\n",
    "list2 = list(range(size))\n",
    "arr1 = np.arange(size)\n",
    "arr2 = np.arange(size)\n",
    "\n",
    "# List addition\n",
    "start = time.time()\n",
    "result_list = [a + b for a, b in zip(list1, list2)]\n",
    "list_time = time.time() - start\n",
    "\n",
    "# NumPy addition\n",
    "start = time.time()\n",
    "result_arr = arr1 + arr2\n",
    "numpy_time = time.time() - start\n",
    "\n",
    "print(f\"List operation time: {list_time:.4f} seconds\")\n",
    "print(f\"NumPy operation time: {numpy_time:.4f} seconds\")\n",
    "print(f\"NumPy is {list_time/numpy_time:.1f}x faster\")"
   ]
  },
  {
   "cell_type": "markdown",
   "metadata": {},
   "source": [
    "## Practice Exercises\n",
    "\n",
    "### Exercise 1: Array Manipulation"
   ]
  },
  {
   "cell_type": "code",
   "execution_count": null,
   "metadata": {},
   "outputs": [],
   "source": [
    "# Create a 5x5 matrix with values 1-25\n",
    "matrix = np.arange(1, 26).reshape(5, 5)\n",
    "print(f\"Matrix:\\n{matrix}\")\n",
    "\n",
    "# Extract the diagonal\n",
    "diagonal = np.diag(matrix)\n",
    "print(f\"\\nDiagonal: {diagonal}\")\n",
    "\n",
    "# Get elements greater than 15\n",
    "greater_15 = matrix[matrix > 15]\n",
    "print(f\"\\nElements > 15: {greater_15}\")\n",
    "\n",
    "# Replace all odd numbers with -1\n",
    "matrix_copy = matrix.copy()\n",
    "matrix_copy[matrix_copy % 2 == 1] = -1\n",
    "print(f\"\\nOdd replaced with -1:\\n{matrix_copy}\")"
   ]
  },
  {
   "cell_type": "markdown",
   "metadata": {},
   "source": [
    "### Exercise 2: Statistical Analysis"
   ]
  },
  {
   "cell_type": "code",
   "execution_count": null,
   "metadata": {},
   "outputs": [],
   "source": [
    "# Generate random scores for 3 subjects and 10 students\n",
    "np.random.seed(42)\n",
    "scores = np.random.randint(60, 101, size=(10, 3))\n",
    "subjects = ['Math', 'Science', 'English']\n",
    "\n",
    "print(\"Student Scores:\")\n",
    "print(f\"{'Student':<10} {subjects[0]:<10} {subjects[1]:<10} {subjects[2]:<10}\")\n",
    "for i, row in enumerate(scores):\n",
    "    print(f\"Student {i+1:<3} {row[0]:<10} {row[1]:<10} {row[2]:<10}\")\n",
    "\n",
    "# Calculate statistics\n",
    "print(f\"\\nSubject averages: {np.mean(scores, axis=0)}\")\n",
    "print(f\"Student averages: {np.mean(scores, axis=1)}\")\n",
    "print(f\"Highest score: {np.max(scores)}\")\n",
    "print(f\"Lowest score: {np.min(scores)}\")\n",
    "\n",
    "# Find best student\n",
    "student_avgs = np.mean(scores, axis=1)\n",
    "best_student = np.argmax(student_avgs) + 1\n",
    "print(f\"\\nBest student: Student {best_student} with average {student_avgs[best_student-1]:.1f}\")"
   ]
  },
  {
   "cell_type": "markdown",
   "metadata": {},
   "source": [
    "## Summary\n",
    "\n",
    "In this notebook, we covered:\n",
    "\n",
    "1. **Array Creation**: Various methods to create NumPy arrays\n",
    "2. **Indexing and Slicing**: Accessing and modifying array elements\n",
    "3. **Array Operations**: Element-wise and scalar operations\n",
    "4. **Broadcasting**: Operations on arrays of different shapes\n",
    "5. **Reshaping**: Changing array dimensions\n",
    "6. **Mathematical Functions**: Trigonometric and statistical functions\n",
    "7. **Aggregation**: Computing statistics along axes\n",
    "8. **Concatenation and Splitting**: Combining and dividing arrays\n",
    "9. **Random Numbers**: Generating random data\n",
    "10. **Performance**: NumPy's efficiency advantage\n",
    "\n",
    "NumPy is essential for:\n",
    "- Efficient numerical computations\n",
    "- Data preprocessing in machine learning\n",
    "- Scientific computing\n",
    "- Image and signal processing"
   ]
  }
 ],
 "metadata": {
  "kernelspec": {
   "display_name": "Python 3",
   "language": "python",
   "name": "python3"
  },
  "language_info": {
   "codemirror_mode": {
    "name": "ipython",
    "version": 3
   },
   "file_extension": ".py",
   "mimetype": "text/x-python",
   "name": "python",
   "nbconvert_exporter": "python",
   "pygments_lexer": "ipython3",
   "version": "3.8.0"
  }
 },
 "nbformat": 4,
 "nbformat_minor": 4
}